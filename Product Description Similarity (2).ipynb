{
 "cells": [
  {
   "cell_type": "code",
   "execution_count": 0,
   "metadata": {
    "application/vnd.databricks.v1+cell": {
     "cellMetadata": {
      "byteLimit": 2048000,
      "rowLimit": 10000
     },
     "inputWidgets": {},
     "nuid": "52c251b8-1830-44c0-93ab-1d63f6ec188c",
     "showTitle": false,
     "title": ""
    }
   },
   "outputs": [],
   "source": [
    "df = spark.read.parquet(\"\"\")"
   ]
  },
  {
   "cell_type": "code",
   "execution_count": 0,
   "metadata": {
    "application/vnd.databricks.v1+cell": {
     "cellMetadata": {
      "byteLimit": 2048000,
      "rowLimit": 10000
     },
     "inputWidgets": {},
     "nuid": "c5006d61-b4b8-44d4-ba59-c79d98656cbf",
     "showTitle": false,
     "title": ""
    }
   },
   "outputs": [
    {
     "output_type": "stream",
     "name": "stdout",
     "output_type": "stream",
     "text": [
      "Deduplicated DataFrame:\nOut[19]: 60895"
     ]
    }
   ],
   "source": [
    "from pyspark.sql import SparkSession\n",
    "\n",
    "\n",
    "\n",
    "# Deduplicate rows by 'UniqId_prod' and keep the first occurrence\n",
    "df = df.dropDuplicates([\"UniqId_prod\"])\n",
    "\n",
    "# Show the deduplicated DataFrame\n",
    "print(\"Deduplicated DataFrame:\")\n",
    "df.count()"
   ]
  },
  {
   "cell_type": "code",
   "execution_count": 0,
   "metadata": {
    "application/vnd.databricks.v1+cell": {
     "cellMetadata": {
      "byteLimit": 2048000,
      "rowLimit": 10000
     },
     "inputWidgets": {},
     "nuid": "573e7002-563f-4468-94fd-f50b1c903d57",
     "showTitle": false,
     "title": ""
    }
   },
   "outputs": [
    {
     "output_type": "stream",
     "name": "stdout",
     "output_type": "stream",
     "text": [
      "Average Similarity to Centroid: 0.1431971695572138\n"
     ]
    }
   ],
   "source": [
    "from pyspark.ml.feature import Tokenizer, HashingTF, IDF\n",
    "from pyspark.ml.linalg import Vectors, VectorUDT\n",
    "from pyspark.sql.functions import avg, collect_list, lit\n",
    "from pyspark.sql.functions import udf\n",
    "from pyspark.sql.types import FloatType\n",
    "import numpy as np\n",
    "\n",
    "# 1. Tokenization\n",
    "tokenizer = Tokenizer(inputCol=\"ProductDescription_prod\", outputCol=\"tokens\")\n",
    "df_tokenized = tokenizer.transform(df_sample)\n",
    "\n",
    "# 2. TF-IDF Vectorization\n",
    "hashingTF = HashingTF(inputCol=\"tokens\", outputCol=\"rawFeatures\")\n",
    "df_tf = hashingTF.transform(df_tokenized)\n",
    "\n",
    "idf = IDF(inputCol=\"rawFeatures\", outputCol=\"features\")\n",
    "idfModel = idf.fit(df_tf)\n",
    "df_tfidf = idfModel.transform(df_tf)\n",
    "\n",
    "# 3. Calculate the centroid of all TF-IDF vectors\n",
    "sum_vector_udf = udf(lambda vectors: Vectors.dense(np.sum(vectors, axis=0)), VectorUDT())\n",
    "df_centroid = df_tfidf.withColumn(\"vector\", df_tfidf[\"features\"].cast(VectorUDT()))\n",
    "centroid = df_centroid.select(collect_list(\"vector\").alias(\"vectors\")).withColumn(\"centroid\", sum_vector_udf(\"vectors\")).first()[\"centroid\"]\n",
    "\n",
    "# 4. Broadcast centroid to all worker nodes for efficient computation\n",
    "broadcast_centroid = sc.broadcast(centroid)\n",
    "\n",
    "# 5. UDF to calculate cosine similarity to the centroid\n",
    "def cosine_to_centroid(v):\n",
    "    v = np.array(v)\n",
    "    centroid = np.array(broadcast_centroid.value)\n",
    "    return float(np.dot(v, centroid) / (np.linalg.norm(v) * np.linalg.norm(centroid)))\n",
    "\n",
    "cosine_to_centroid_udf = udf(cosine_to_centroid, FloatType())\n",
    "df_sim_to_centroid = df_tfidf.withColumn(\"similarity_to_centroid\", cosine_to_centroid_udf(\"features\"))\n",
    "\n",
    "# 6. Calculate average similarity to centroid\n",
    "average_similarity_to_centroid = df_sim_to_centroid.agg(avg(\"similarity_to_centroid\")).collect()[0][0]\n",
    "print(f\"Average Similarity to Centroid: {average_similarity_to_centroid}\")\n"
   ]
  },
  {
   "cell_type": "code",
   "execution_count": 0,
   "metadata": {
    "application/vnd.databricks.v1+cell": {
     "cellMetadata": {
      "byteLimit": 2048000,
      "rowLimit": 10000
     },
     "inputWidgets": {},
     "nuid": "59140ceb-c3b5-47ee-b111-875c89661b4e",
     "showTitle": false,
     "title": ""
    }
   },
   "outputs": [
    {
     "output_type": "display_data",
     "data": {
      "text/html": [
       "<style scoped>\n",
       "  .ansiout {\n",
       "    display: block;\n",
       "    unicode-bidi: embed;\n",
       "    white-space: pre-wrap;\n",
       "    word-wrap: break-word;\n",
       "    word-break: break-all;\n",
       "    font-family: \"Source Code Pro\", \"Menlo\", monospace;;\n",
       "    font-size: 13px;\n",
       "    color: #555;\n",
       "    margin-left: 4px;\n",
       "    line-height: 19px;\n",
       "  }\n",
       "</style>"
      ]
     },
     "metadata": {
      "application/vnd.databricks.v1+output": {
       "arguments": {},
       "data": "",
       "errorSummary": "Cancelled",
       "errorTraceType": "html",
       "metadata": {},
       "type": "ipynbError"
      }
     },
     "output_type": "display_data"
    }
   ],
   "source": [
    "from pyspark.ml.feature import Tokenizer, HashingTF, IDF\n",
    "from pyspark.ml.linalg import Vectors, VectorUDT\n",
    "from pyspark.sql.functions import avg, collect_list\n",
    "from pyspark.sql.functions import udf\n",
    "from pyspark.sql.types import FloatType\n",
    "import numpy as np\n",
    "\n",
    "# 1. Tokenization\n",
    "tokenizer = Tokenizer(inputCol=\"ProductDescription_prod\", outputCol=\"tokens\")\n",
    "df_tokenized = tokenizer.transform(df)\n",
    "\n",
    "# 2. TF-IDF Vectorization\n",
    "hashingTF = HashingTF(inputCol=\"tokens\", outputCol=\"rawFeatures\")\n",
    "df_tf = hashingTF.transform(df_tokenized)\n",
    "\n",
    "idf = IDF(inputCol=\"rawFeatures\", outputCol=\"features\")\n",
    "idfModel = idf.fit(df_tf)\n",
    "df_tfidf = idfModel.transform(df_tf)\n",
    "\n",
    "# 3. Calculate the centroid of all TF-IDF vectors\n",
    "sum_vector_udf = udf(lambda vectors: Vectors.dense(np.sum(vectors, axis=0)), VectorUDT())\n",
    "df_centroid = df_tfidf.withColumn(\"vector\", df_tfidf[\"features\"].cast(VectorUDT()))\n",
    "centroid = df_centroid.select(collect_list(\"vector\").alias(\"vectors\")).withColumn(\"centroid\", sum_vector_udf(\"vectors\")).first()[\"centroid\"]\n",
    "\n",
    "# 4. Broadcast centroid to all worker nodes for efficient computation\n",
    "broadcast_centroid = sc.broadcast(centroid)\n",
    "\n",
    "# 5. UDF to calculate cosine similarity to the centroid\n",
    "def cosine_to_centroid(v):\n",
    "    v = np.array(v)\n",
    "    centroid = np.array(broadcast_centroid.value)\n",
    "    return float(np.dot(v, centroid) / (np.linalg.norm(v) * np.linalg.norm(centroid)))\n",
    "\n",
    "cosine_to_centroid_udf = udf(cosine_to_centroid, FloatType())\n",
    "df_sim_to_centroid = df_tfidf.withColumn(\"similarity_to_centroid\", cosine_to_centroid_udf(\"features\"))\n",
    "\n",
    "# 6. Calculate average similarity to centroid\n",
    "average_similarity_to_centroid = df_sim_to_centroid.agg(avg(\"similarity_to_centroid\")).collect()[0][0]\n",
    "print(f\"Average Similarity to Centroid: {average_similarity_to_centroid}\")\n"
   ]
  },
  {
   "cell_type": "code",
   "execution_count": 0,
   "metadata": {
    "application/vnd.databricks.v1+cell": {
     "cellMetadata": {
      "byteLimit": 2048000,
      "rowLimit": 10000
     },
     "inputWidgets": {},
     "nuid": "5a649964-bf19-482d-9e17-867e5ae57e5f",
     "showTitle": false,
     "title": ""
    }
   },
   "outputs": [
    {
     "output_type": "display_data",
     "data": {
      "text/html": [
       "<style scoped>\n",
       "  .ansiout {\n",
       "    display: block;\n",
       "    unicode-bidi: embed;\n",
       "    white-space: pre-wrap;\n",
       "    word-wrap: break-word;\n",
       "    word-break: break-all;\n",
       "    font-family: \"Source Code Pro\", \"Menlo\", monospace;;\n",
       "    font-size: 13px;\n",
       "    color: #555;\n",
       "    margin-left: 4px;\n",
       "    line-height: 19px;\n",
       "  }\n",
       "</style>"
      ]
     },
     "metadata": {
      "application/vnd.databricks.v1+output": {
       "arguments": {},
       "data": "",
       "errorSummary": "Command skipped",
       "errorTraceType": "html",
       "metadata": {},
       "type": "ipynbError"
      }
     },
     "output_type": "display_data"
    }
   ],
   "source": [
    "df_sim_to_centroid.write.csv(\"/mnt/igenie-blob01/SandboxLH/similarity_scores.csv\", header='True')"
   ]
  },
  {
   "cell_type": "code",
   "execution_count": 0,
   "metadata": {
    "application/vnd.databricks.v1+cell": {
     "cellMetadata": {
      "byteLimit": 2048000,
      "rowLimit": 10000
     },
     "inputWidgets": {},
     "nuid": "f6c05787-3cdb-47cb-94f9-a3f516069ba8",
     "showTitle": false,
     "title": ""
    }
   },
   "outputs": [
    {
     "output_type": "stream",
     "name": "stdout",
     "output_type": "stream",
     "text": [
      "+--------------------+-------------------+\n|   ProductBrand_prod|     avg_similarity|\n+--------------------+-------------------+\n|             Pure NV| 0.5114076733589172|\n|             Osensia|0.48708170652389526|\n|         L'ANGE HAIR| 0.4405709207057953|\n|      Natural Riches|0.43412986397743225|\n|                Noah| 0.4338989555835724|\n|     ALFAPARF MILANO| 0.4224143922328949|\n|            Cliganic|0.42231979966163635|\n|       LOVE UR CURLS|0.42051956057548523|\n|          Dollylocks| 0.4041193127632141|\n|             Saphira| 0.4024561047554016|\n|              DIFEEL| 0.4004945158958435|\n|     Curls Unleashed|  0.398151695728302|\n|THANK GOD IT'S NA...| 0.3916624188423157|\n|     Abril Et Nature| 0.3878406286239624|\n|       NO FADE FRESH|0.37462371587753296|\n|              Solpri| 0.3707782030105591|\n|       NO INHIBITION|0.36683419346809387|\n|             LINANGE| 0.3662928342819214|\n|              SEVICH|0.36231517791748047|\n|              Rednow| 0.3503188192844391|\n+--------------------+-------------------+\nonly showing top 20 rows\n\n"
     ]
    }
   ],
   "source": [
    "from pyspark.sql import functions as F\n",
    "\n",
    "# Group by brand and calculate average similarity\n",
    "brand_similarity_df = df_sim_to_centroid.groupBy(\"ProductBrand_prod\").agg(F.avg(\"similarity_to_centroid\").alias(\"avg_similarity\")).orderBy(F.desc(\"avg_similarity\"))\n",
    "\n",
    "# Display the brands with the highest and lowest average similarity scores\n",
    "brand_similarity_df.show()\n"
   ]
  },
  {
   "cell_type": "code",
   "execution_count": 0,
   "metadata": {
    "application/vnd.databricks.v1+cell": {
     "cellMetadata": {
      "byteLimit": 2048000,
      "rowLimit": 10000
     },
     "inputWidgets": {},
     "nuid": "a0491181-ca13-40b9-b7c0-5bc027bc4046",
     "showTitle": false,
     "title": ""
    }
   },
   "outputs": [
    {
     "output_type": "stream",
     "name": "stdout",
     "output_type": "stream",
     "text": [
      "+--------------------+----------------------+\n|   ProductBrand_prod|avg_description_length|\n+--------------------+----------------------+\n|            Cliganic|                4514.0|\n|             Pure NV|                3642.0|\n|      Uhuru Naturals|                3483.0|\n|Garnier Fructis P...|                3466.0|\n|             Osensia|                3369.0|\n|           KeraFiber|                3301.0|\n|       LOVE UR CURLS|                3186.0|\n|          Mad Hippie|                2902.0|\n|          Dollylocks|                2895.0|\n|         L'ANGE HAIR|                2843.0|\n|                WAHL|                2838.0|\n|     ALFAPARF MILANO|                2818.0|\n|      Natural Riches|                2798.0|\n|            TRESemme|    2757.8333333333335|\n|                Noah|                2692.0|\n|        Keratin Cure|                2678.0|\n|            Nutrafol|                2447.0|\n|       NO FADE FRESH|                2328.0|\n|           Lorddream|                2323.0|\n|          Dapper Dan|                2317.0|\n+--------------------+----------------------+\nonly showing top 20 rows\n\n"
     ]
    }
   ],
   "source": [
    "# Add a new column with the length of each product description\n",
    "df_with_length = df_sample.withColumn(\"description_length\", F.length(\"ProductDescription_prod\"))\n",
    "\n",
    "# Group by brand and calculate average length of descriptions\n",
    "brand_length_df = df_with_length.groupBy(\"ProductBrand_prod\").agg(F.avg(\"description_length\").alias(\"avg_description_length\")).orderBy(F.desc(\"avg_description_length\"))\n",
    "\n",
    "# Display the brands with the longest and shortest average description lengths\n",
    "brand_length_df.show()\n"
   ]
  },
  {
   "cell_type": "code",
   "execution_count": 0,
   "metadata": {
    "application/vnd.databricks.v1+cell": {
     "cellMetadata": {
      "byteLimit": 2048000,
      "rowLimit": 10000
     },
     "inputWidgets": {},
     "nuid": "a731c7f8-d85a-4cae-84ec-6cfb4333a6e1",
     "showTitle": false,
     "title": ""
    }
   },
   "outputs": [
    {
     "output_type": "display_data",
     "data": {
      "image/png": "[encoded data removed]"
     },
     "metadata": {
      "application/vnd.databricks.v1+output": {
       "addedWidgets": {},
       "arguments": {},
       "data": "data:image/png;base64,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\n",
       "datasetInfos": [],
       "metadata": {},
       "removedWidgets": [],
       "type": "image"
      }
     },
     "output_type": "display_data"
    },
    {
     "output_type": "display_data",
     "data": {
      "text/plain": [
       "\u001B[0;31m---------------------------------------------------------------------------\u001B[0m\n",
       "\u001B[0;31mAttributeError\u001B[0m                            Traceback (most recent call last)\n",
       "\u001B[0;32m<command-1905638581600586>\u001B[0m in \u001B[0;36m<cell line: 8>\u001B[0;34m()\u001B[0m\n",
       "\u001B[1;32m      6\u001B[0m \u001B[0;31m# Plotting average similarity by brand\u001B[0m\u001B[0;34m\u001B[0m\u001B[0;34m\u001B[0m\u001B[0;34m\u001B[0m\u001B[0m\n",
       "\u001B[1;32m      7\u001B[0m \u001B[0mplt\u001B[0m\u001B[0;34m.\u001B[0m\u001B[0msubplot\u001B[0m\u001B[0;34m(\u001B[0m\u001B[0;36m1\u001B[0m\u001B[0;34m,\u001B[0m \u001B[0;36m2\u001B[0m\u001B[0;34m,\u001B[0m \u001B[0;36m1\u001B[0m\u001B[0;34m)\u001B[0m\u001B[0;34m\u001B[0m\u001B[0;34m\u001B[0m\u001B[0m\n",
       "\u001B[0;32m----> 8\u001B[0;31m \u001B[0mbrand_similarity_df\u001B[0m\u001B[0;34m.\u001B[0m\u001B[0mset_index\u001B[0m\u001B[0;34m(\u001B[0m\u001B[0;34m\"ProductBrand_prod\"\u001B[0m\u001B[0;34m)\u001B[0m\u001B[0;34m[\u001B[0m\u001B[0;34m\"avg_similarity\"\u001B[0m\u001B[0;34m]\u001B[0m\u001B[0;34m.\u001B[0m\u001B[0mplot\u001B[0m\u001B[0;34m(\u001B[0m\u001B[0mkind\u001B[0m\u001B[0;34m=\u001B[0m\u001B[0;34m\"bar\"\u001B[0m\u001B[0;34m,\u001B[0m \u001B[0mcolor\u001B[0m\u001B[0;34m=\u001B[0m\u001B[0;34m\"skyblue\"\u001B[0m\u001B[0;34m)\u001B[0m\u001B[0;34m\u001B[0m\u001B[0;34m\u001B[0m\u001B[0m\n",
       "\u001B[0m\u001B[1;32m      9\u001B[0m \u001B[0mplt\u001B[0m\u001B[0;34m.\u001B[0m\u001B[0mtitle\u001B[0m\u001B[0;34m(\u001B[0m\u001B[0;34m\"Average Similarity by Brand\"\u001B[0m\u001B[0;34m)\u001B[0m\u001B[0;34m\u001B[0m\u001B[0;34m\u001B[0m\u001B[0m\n",
       "\u001B[1;32m     10\u001B[0m \u001B[0mplt\u001B[0m\u001B[0;34m.\u001B[0m\u001B[0mylabel\u001B[0m\u001B[0;34m(\u001B[0m\u001B[0;34m\"Average Similarity\"\u001B[0m\u001B[0;34m)\u001B[0m\u001B[0;34m\u001B[0m\u001B[0;34m\u001B[0m\u001B[0m\n",
       "\n",
       "\u001B[0;32m/databricks/spark/python/pyspark/sql/dataframe.py\u001B[0m in \u001B[0;36m__getattr__\u001B[0;34m(self, name)\u001B[0m\n",
       "\u001B[1;32m   2022\u001B[0m         \"\"\"\n",
       "\u001B[1;32m   2023\u001B[0m         \u001B[0;32mif\u001B[0m \u001B[0mname\u001B[0m \u001B[0;32mnot\u001B[0m \u001B[0;32min\u001B[0m \u001B[0mself\u001B[0m\u001B[0;34m.\u001B[0m\u001B[0mcolumns\u001B[0m\u001B[0;34m:\u001B[0m\u001B[0;34m\u001B[0m\u001B[0;34m\u001B[0m\u001B[0m\n",
       "\u001B[0;32m-> 2024\u001B[0;31m             raise AttributeError(\n",
       "\u001B[0m\u001B[1;32m   2025\u001B[0m                 \u001B[0;34m\"'%s' object has no attribute '%s'\"\u001B[0m \u001B[0;34m%\u001B[0m \u001B[0;34m(\u001B[0m\u001B[0mself\u001B[0m\u001B[0;34m.\u001B[0m\u001B[0m__class__\u001B[0m\u001B[0;34m.\u001B[0m\u001B[0m__name__\u001B[0m\u001B[0;34m,\u001B[0m \u001B[0mname\u001B[0m\u001B[0;34m)\u001B[0m\u001B[0;34m\u001B[0m\u001B[0;34m\u001B[0m\u001B[0m\n",
       "\u001B[1;32m   2026\u001B[0m             )\n",
       "\n",
       "\u001B[0;31mAttributeError\u001B[0m: 'DataFrame' object has no attribute 'set_index'"
      ]
     },
     "metadata": {
      "application/vnd.databricks.v1+output": {
       "arguments": {},
       "data": "\u001B[0;31m---------------------------------------------------------------------------\u001B[0m\n\u001B[0;31mAttributeError\u001B[0m                            Traceback (most recent call last)\n\u001B[0;32m<command-1905638581600586>\u001B[0m in \u001B[0;36m<cell line: 8>\u001B[0;34m()\u001B[0m\n\u001B[1;32m      6\u001B[0m \u001B[0;31m# Plotting average similarity by brand\u001B[0m\u001B[0;34m\u001B[0m\u001B[0;34m\u001B[0m\u001B[0;34m\u001B[0m\u001B[0m\n\u001B[1;32m      7\u001B[0m \u001B[0mplt\u001B[0m\u001B[0;34m.\u001B[0m\u001B[0msubplot\u001B[0m\u001B[0;34m(\u001B[0m\u001B[0;36m1\u001B[0m\u001B[0;34m,\u001B[0m \u001B[0;36m2\u001B[0m\u001B[0;34m,\u001B[0m \u001B[0;36m1\u001B[0m\u001B[0;34m)\u001B[0m\u001B[0;34m\u001B[0m\u001B[0;34m\u001B[0m\u001B[0m\n\u001B[0;32m----> 8\u001B[0;31m \u001B[0mbrand_similarity_df\u001B[0m\u001B[0;34m.\u001B[0m\u001B[0mset_index\u001B[0m\u001B[0;34m(\u001B[0m\u001B[0;34m\"ProductBrand_prod\"\u001B[0m\u001B[0;34m)\u001B[0m\u001B[0;34m[\u001B[0m\u001B[0;34m\"avg_similarity\"\u001B[0m\u001B[0;34m]\u001B[0m\u001B[0;34m.\u001B[0m\u001B[0mplot\u001B[0m\u001B[0;34m(\u001B[0m\u001B[0mkind\u001B[0m\u001B[0;34m=\u001B[0m\u001B[0;34m\"bar\"\u001B[0m\u001B[0;34m,\u001B[0m \u001B[0mcolor\u001B[0m\u001B[0;34m=\u001B[0m\u001B[0;34m\"skyblue\"\u001B[0m\u001B[0;34m)\u001B[0m\u001B[0;34m\u001B[0m\u001B[0;34m\u001B[0m\u001B[0m\n\u001B[0m\u001B[1;32m      9\u001B[0m \u001B[0mplt\u001B[0m\u001B[0;34m.\u001B[0m\u001B[0mtitle\u001B[0m\u001B[0;34m(\u001B[0m\u001B[0;34m\"Average Similarity by Brand\"\u001B[0m\u001B[0;34m)\u001B[0m\u001B[0;34m\u001B[0m\u001B[0;34m\u001B[0m\u001B[0m\n\u001B[1;32m     10\u001B[0m \u001B[0mplt\u001B[0m\u001B[0;34m.\u001B[0m\u001B[0mylabel\u001B[0m\u001B[0;34m(\u001B[0m\u001B[0;34m\"Average Similarity\"\u001B[0m\u001B[0;34m)\u001B[0m\u001B[0;34m\u001B[0m\u001B[0;34m\u001B[0m\u001B[0m\n\n\u001B[0;32m/databricks/spark/python/pyspark/sql/dataframe.py\u001B[0m in \u001B[0;36m__getattr__\u001B[0;34m(self, name)\u001B[0m\n\u001B[1;32m   2022\u001B[0m         \"\"\"\n\u001B[1;32m   2023\u001B[0m         \u001B[0;32mif\u001B[0m \u001B[0mname\u001B[0m \u001B[0;32mnot\u001B[0m \u001B[0;32min\u001B[0m \u001B[0mself\u001B[0m\u001B[0;34m.\u001B[0m\u001B[0mcolumns\u001B[0m\u001B[0;34m:\u001B[0m\u001B[0;34m\u001B[0m\u001B[0;34m\u001B[0m\u001B[0m\n\u001B[0;32m-> 2024\u001B[0;31m             raise AttributeError(\n\u001B[0m\u001B[1;32m   2025\u001B[0m                 \u001B[0;34m\"'%s' object has no attribute '%s'\"\u001B[0m \u001B[0;34m%\u001B[0m \u001B[0;34m(\u001B[0m\u001B[0mself\u001B[0m\u001B[0;34m.\u001B[0m\u001B[0m__class__\u001B[0m\u001B[0;34m.\u001B[0m\u001B[0m__name__\u001B[0m\u001B[0;34m,\u001B[0m \u001B[0mname\u001B[0m\u001B[0;34m)\u001B[0m\u001B[0;34m\u001B[0m\u001B[0;34m\u001B[0m\u001B[0m\n\u001B[1;32m   2026\u001B[0m             )\n\n\u001B[0;31mAttributeError\u001B[0m: 'DataFrame' object has no attribute 'set_index'",
       "errorSummary": "<span class='ansi-red-fg'>AttributeError</span>: 'DataFrame' object has no attribute 'set_index'",
       "errorTraceType": "ansi",
       "metadata": {},
       "type": "ipynbError"
      }
     },
     "output_type": "display_data"
    }
   ],
   "source": [
    "import matplotlib.pyplot as plt\n",
    "\n",
    "# Assuming you have converted brand_similarity_df and brand_length_df to pandas DataFrame\n",
    "plt.figure(figsize=(15,7))\n",
    "\n",
    "# Plotting average similarity by brand\n",
    "plt.subplot(1, 2, 1)\n",
    "brand_similarity_df.set_index(\"ProductBrand_prod\")[\"avg_similarity\"].plot(kind=\"bar\", color=\"skyblue\")\n",
    "plt.title(\"Average Similarity by Brand\")\n",
    "plt.ylabel(\"Average Similarity\")\n",
    "plt.xticks(rotation=45)\n",
    "\n",
    "# Plotting average description length by brand\n",
    "plt.subplot(1, 2, 2)\n",
    "brand_length_df.set_index(\"ProductBrand_prod\")[\"avg_description_length\"].plot(kind=\"bar\", color=\"salmon\")\n",
    "plt.title(\"Average Description Length by Brand\")\n",
    "plt.ylabel(\"Average Length\")\n",
    "plt.xticks(rotation=45)\n",
    "\n",
    "plt.tight_layout()\n",
    "plt.show()\n"
   ]
  },
  {
   "cell_type": "code",
   "execution_count": 0,
   "metadata": {
    "application/vnd.databricks.v1+cell": {
     "cellMetadata": {
      "byteLimit": 2048000,
      "rowLimit": 10000
     },
     "inputWidgets": {},
     "nuid": "13ab9628-ebfc-4de6-a8e1-623855bba41f",
     "showTitle": false,
     "title": ""
    }
   },
   "outputs": [],
   "source": [
    "# Median similarity by brand\n",
    "brand_median_similarity = df_sim_to_centroid.groupBy(\"ProductBrand_prod\").agg(F.expr('percentile_approx(similarity_to_centroid, 0.5)').alias('median_similarity'))\n",
    "\n",
    "# Median description length by brand\n",
    "brand_median_length = df_with_length.groupBy(\"ProductBrand_prod\").agg(F.expr('percentile_approx(description_length, 0.5)').alias('median_description_length'))\n"
   ]
  },
  {
   "cell_type": "code",
   "execution_count": 0,
   "metadata": {
    "application/vnd.databricks.v1+cell": {
     "cellMetadata": {
      "byteLimit": 2048000,
      "rowLimit": 10000
     },
     "inputWidgets": {},
     "nuid": "2ca9199b-b25d-490b-8847-22f61067ceef",
     "showTitle": false,
     "title": ""
    }
   },
   "outputs": [
    {
     "output_type": "display_data",
     "data": {
      "text/html": [
       "<style scoped>\n",
       "  .table-result-container {\n",
       "    max-height: 300px;\n",
       "    overflow: auto;\n",
       "  }\n",
       "  table, th, td {\n",
       "    border: 1px solid black;\n",
       "    border-collapse: collapse;\n",
       "  }\n",
       "  th, td {\n",
       "    padding: 5px;\n",
       "  }\n",
       "  th {\n",
       "    text-align: left;\n",
       "  }\n",
       "</style><div class='table-result-container'><table class='table-result'><thead style='background-color: white'><tr><th>ProductBrand_prod</th><th>median_similarity</th></tr></thead><tbody><tr><td></td><td>0.04565501</td></tr><tr><td>(RE)FRESH</td><td>0.23240946</td></tr><tr><td>/liv/ Nature</td><td>0.04565501</td></tr><tr><td>ABBA</td><td>0.04565501</td></tr><tr><td>ACM Laboratoire dermatologique</td><td>0.04565501</td></tr><tr><td>ACTROL</td><td>0.04565501</td></tr><tr><td>ADDERENITY</td><td>0.04565501</td></tr><tr><td>ADWOA BEAUTY</td><td>0.26397052</td></tr><tr><td>AFRO & RIZO</td><td>0.23280373</td></tr><tr><td>AG Care</td><td>0.04565501</td></tr><tr><td>AGOPLEE</td><td>0.27965817</td></tr><tr><td>ALBERTO VO5</td><td>0.04565501</td></tr><tr><td>ALTERNA Haircare</td><td>0.2747017</td></tr><tr><td>AMERICAN CREW</td><td>0.04565501</td></tr><tr><td>AMIKA</td><td>0.04565501</td></tr><tr><td>ANEFOSE</td><td>0.04565501</td></tr><tr><td>ANIHANA</td><td>0.46204326</td></tr><tr><td>ANYELUZ</td><td>0.04565501</td></tr><tr><td>ARVAZALLIA</td><td>0.3350639</td></tr><tr><td>ATTITUDE</td><td>0.04565501</td></tr><tr><td>AUSSIE</td><td>0.3600943</td></tr><tr><td>AVEDA</td><td>0.04565501</td></tr><tr><td>Abril Et Nature</td><td>0.04565501</td></tr><tr><td>Absolute</td><td>0.04565501</td></tr><tr><td>Ace high</td><td>0.35316843</td></tr><tr><td>Acure</td><td>0.04565501</td></tr><tr><td>Aeiniwer</td><td>0.04565501</td></tr><tr><td>Aesop</td><td>0.04565501</td></tr><tr><td>Africa's Best</td><td>0.028227553</td></tr><tr><td>African Delights</td><td>0.23599522</td></tr><tr><td>African Pride</td><td>0.40160972</td></tr><tr><td>Africare</td><td>0.1900179</td></tr><tr><td>Afro Love</td><td>0.04565501</td></tr><tr><td>Agthyuve</td><td>0.04565501</td></tr><tr><td>Alaffia</td><td>0.04565501</td></tr><tr><td>Alberto VO5</td><td>0.1381155</td></tr><tr><td>Alevai</td><td>0.2872724</td></tr><tr><td>Alice + Co.</td><td>0.04565501</td></tr><tr><td>Alikay Naturals</td><td>0.04565501</td></tr><tr><td>All Day Locks</td><td>0.12369419</td></tr><tr><td>All-Nutrient</td><td>0.04565501</td></tr><tr><td>Alma Belleza</td><td>0.04565501</td></tr><tr><td>Alpecin</td><td>0.04565501</td></tr><tr><td>Alterna Haircare</td><td>0.04565501</td></tr><tr><td>AmPro</td><td>0.04565501</td></tr><tr><td>Ambiance Dry Shampoo</td><td>0.04565501</td></tr><tr><td>American Crew</td><td>0.19917364</td></tr><tr><td>Amika</td><td>0.16311784</td></tr><tr><td>AminoGenesis</td><td>0.04565501</td></tr><tr><td>Andrew Fitzsimons</td><td>0.2924</td></tr><tr><td>Anti-Aging Extracts</td><td>0.04565501</td></tr><tr><td>Aphogee</td><td>0.03006411</td></tr><tr><td>Aquableu</td><td>0.04565501</td></tr><tr><td>Aquage</td><td>0.2280545</td></tr><tr><td>Aquaphor</td><td>0.23520029</td></tr><tr><td>Arbol Verde</td><td>0.35848483</td></tr><tr><td>Arlo's</td><td>0.18706837</td></tr><tr><td>Arm & Hammer</td><td>0.04565501</td></tr><tr><td>Aromatic Hair Growth</td><td>0.27198416</td></tr><tr><td>Art Class</td><td>0.12402742</td></tr><tr><td>Artnaturals</td><td>0.04565501</td></tr><tr><td>Atlas Ethnic</td><td>0.18683548</td></tr><tr><td>Aunt Jackie's</td><td>0.04565501</td></tr><tr><td>Aussie</td><td>0.23433734</td></tr><tr><td>Autoglym</td><td>0.04565501</td></tr><tr><td>Avalon Organics</td><td>0.04565501</td></tr><tr><td>Aveda</td><td>0.04565501</td></tr><tr><td>Avlon</td><td>0.04565501</td></tr><tr><td>Ayurvedashree</td><td>0.29857385</td></tr><tr><td>Azufre Veri</td><td>0.04565501</td></tr><tr><td>BABE ORIGINAL</td><td>0.04565501</td></tr><tr><td>BAMBOEARTH</td><td>0.04565501</td></tr><tr><td>BCURVED</td><td>0.04565501</td></tr><tr><td>BIOLAGE</td><td>0.04565501</td></tr><tr><td>BLACK ICE</td><td>0.06739883</td></tr><tr><td>BOLD UNIQ</td><td>0.04565501</td></tr><tr><td>BOOST N BLEND</td><td>0.04565501</td></tr><tr><td>BOTANICAL GREEN CARE</td><td>0.04565501</td></tr><tr><td>BREAD BEAUTY SUPPLY</td><td>0.21389443</td></tr><tr><td>BTZ</td><td>0.04565501</td></tr><tr><td>Banana Boat</td><td>0.10876659</td></tr><tr><td>Base Butter</td><td>0.17408536</td></tr><tr><td>Bathwe</td><td>0.27200645</td></tr><tr><td>Batiste</td><td>0.04565501</td></tr><tr><td>Be unbeweaveable</td><td>0.04565501</td></tr><tr><td>Beauty Nature</td><td>0.04565501</td></tr><tr><td>Beauty by Earth</td><td>0.14051686</td></tr><tr><td>Bed Head</td><td>0.04565501</td></tr><tr><td>Biguy</td><td>0.21142341</td></tr><tr><td>Bilo</td><td>0.107108004</td></tr><tr><td>Bioderma</td><td>0.13936004</td></tr><tr><td>Biolage</td><td>0.04565501</td></tr><tr><td>Biosilk</td><td>0.20417173</td></tr><tr><td>Biotique</td><td>0.3638868</td></tr><tr><td>Bisou Bisou Bisou</td><td>0.37454727</td></tr><tr><td>Black Ice</td><td>0.04565501</td></tr><tr><td>BlondMe</td><td>0.04565501</td></tr><tr><td>Blowpro</td><td>0.15989812</td></tr><tr><td>Bondi Boost</td><td>0.2146292</td></tr><tr><td>BondiBoost</td><td>0.30118427</td></tr><tr><td>Bonsai Kids Hair Care</td><td>0.32402688</td></tr><tr><td>BosleyMD</td><td>0.306412</td></tr><tr><td>Botanic Hearth</td><td>0.27662328</td></tr><tr><td>Briogeo</td><td>0.2660605</td></tr><tr><td>Briogeo Hair Care</td><td>0.04565501</td></tr><tr><td>Bronner Brothers</td><td>0.03836889</td></tr><tr><td>Bumble and Bumble</td><td>0.04565501</td></tr><tr><td>Bumble and bumble</td><td>0.26339385</td></tr><tr><td>By Vilain</td><td>0.04565501</td></tr><tr><td>CAKE BEAUTY</td><td>0.04565501</td></tr><tr><td>CANVIIY</td><td>0.04565501</td></tr><tr><td>CAPTAIN BLANKENSHIP</td><td>0.04565501</td></tr><tr><td>CAROL'S DAUGHTER</td><td>0.04565501</td></tr><tr><td>CATINA ORGANIC</td><td>0.20661125</td></tr><tr><td>CCHUDE</td><td>0.04565501</td></tr><tr><td>CELRAUM</td><td>0.04565501</td></tr><tr><td>CHALLENGER</td><td>0.26395094</td></tr><tr><td>CHI</td><td>0.04565501</td></tr><tr><td>CLIGANIC</td><td>0.04565501</td></tr><tr><td>COCOCHOCO</td><td>0.04565501</td></tr><tr><td>COLOR WOW</td><td>0.04565501</td></tr><tr><td>COSMOCOS</td><td>0.04565501</td></tr><tr><td>CRIUS COSMETICS</td><td>0.04565501</td></tr><tr><td>CROOT</td><td>0.04565501</td></tr><tr><td>CRÈME OF NATURE</td><td>0.19771878</td></tr><tr><td>CUTTO -THE BEAUTY OF NATURE</td><td>0.18922815</td></tr><tr><td>Cake</td><td>0.13679509</td></tr><tr><td>Cake Beauty</td><td>0.23154727</td></tr><tr><td>Camille Rose</td><td>0.04565501</td></tr><tr><td>Camille Rose Naturals</td><td>0.21178384</td></tr><tr><td>Cantu</td><td>0.04565501</td></tr><tr><td>Carol's Daughter</td><td>0.04565501</td></tr><tr><td>Caroline Keller</td><td>0.04565501</td></tr><tr><td>Cat & Jack</td><td>0.14250214</td></tr><tr><td>Christina Moss Naturals</td><td>0.04565501</td></tr><tr><td>Ciamlir</td><td>0.28803933</td></tr><tr><td>Clairol</td><td>0.11657182</td></tr><tr><td>Cliganic</td><td>0.04565501</td></tr><tr><td>Clubman</td><td>0.04565501</td></tr><tr><td>Codeage</td><td>0.20216425</td></tr><tr><td>Color Edge</td><td>0.3880108</td></tr><tr><td>Comfier</td><td>0.15918407</td></tr><tr><td>Consort</td><td>0.04565501</td></tr><tr><td>Consort For Men</td><td>0.12454683</td></tr><tr><td>Creme of Nature</td><td>0.23269208</td></tr><tr><td>Cremo</td><td>0.14168894</td></tr><tr><td>Curlisto</td><td>0.04565501</td></tr><tr><td>Curls Unleashed</td><td>0.34182072</td></tr><tr><td>Curlsmith</td><td>0.2734671</td></tr><tr><td>CurlyKids</td><td>0.20265846</td></tr><tr><td>Cuteam</td><td>0.14760898</td></tr><tr><td>DABIUSY</td><td>0.25407302</td></tr><tr><td>DASHU</td><td>0.04565501</td></tr><tr><td>DESIGNLINE</td><td>0.04565501</td></tr><tr><td>DHS</td><td>0.04565501</td></tr><tr><td>DIR</td><td>0.04565501</td></tr><tr><td>DOO GRO</td><td>0.04565501</td></tr><tr><td>DOVE</td><td>0.04565501</td></tr><tr><td>DREAD HEAD HQ</td><td>0.04565501</td></tr><tr><td>Dabur</td><td>0.04565501</td></tr><tr><td>Davines</td><td>0.28177053</td></tr><tr><td>De Fabulous</td><td>0.04565501</td></tr><tr><td>Delvaux</td><td>0.15364072</td></tr><tr><td>Design Essentials</td><td>0.04565501</td></tr><tr><td>Design.Me</td><td>0.04565501</td></tr><tr><td>Dessange</td><td>0.04565501</td></tr><tr><td>DevaCurl</td><td>0.11589038</td></tr><tr><td>Difeel</td><td>0.17846255</td></tr><tr><td>Donna</td><td>0.08571189</td></tr><tr><td>Donna's Recipe</td><td>0.14687511</td></tr><tr><td>Dove</td><td>0.04565501</td></tr><tr><td>Dove Men+Care</td><td>0.15980104</td></tr><tr><td>Dr Teal's</td><td>0.20377994</td></tr><tr><td>Dr. Bronner's</td><td>0.13912712</td></tr><tr><td>Dr. Miracle's</td><td>0.04565501</td></tr><tr><td>Drybar</td><td>0.16093008</td></tr><tr><td>Duke Cannon</td><td>0.1569852</td></tr><tr><td>EBIN NEW YORK</td><td>0.20539705</td></tr><tr><td>EBIN New York</td><td>0.1748155</td></tr><tr><td>ECCO</td><td>0.04565501</td></tr><tr><td>EL MITO</td><td>0.27607927</td></tr><tr><td>ELC Dao of Hair</td><td>0.04565501</td></tr><tr><td>ENVISHA</td><td>0.04565501</td></tr><tr><td>ETUIH</td><td>0.04565501</td></tr><tr><td>EVA·NYC</td><td>0.04565501</td></tr><tr><td>EVER EGO ITALY PROFESSIONAL HAIR PRODUCTS</td><td>0.04565501</td></tr><tr><td>EZEDGE</td><td>0.04565501</td></tr><tr><td>Earnest Mom</td><td>0.04565501</td></tr><tr><td>Earth Science</td><td>0.04565501</td></tr><tr><td>Earth Supplied</td><td>0.04565501</td></tr><tr><td>Eclat Skincare® - #1 Dermatologist Recommended</td><td>0.27994394</td></tr><tr><td>Eco Style</td><td>0.14009582</td></tr><tr><td>Ecoco</td><td>0.22378129</td></tr><tr><td>Eden BodyWorks</td><td>0.2222208</td></tr><tr><td>EleaEleanor</td><td>0.2933614</td></tr><tr><td>Eleni & Chris</td><td>0.25086784</td></tr><tr><td>Energizer</td><td>0.04565501</td></tr><tr><td>Enjoy</td><td>0.04565501</td></tr><tr><td>Enliven</td><td>0.04565501</td></tr><tr><td>Equate</td><td>0.16308707</td></tr><tr><td>Ethica Beauty</td><td>0.47609827</td></tr><tr><td>Ethique</td><td>0.04565501</td></tr><tr><td>Eufora</td><td>0.019346686</td></tr><tr><td>Eva Nyc</td><td>0.2756292</td></tr><tr><td>Evereden</td><td>0.04565501</td></tr><tr><td>Every Man Jack</td><td>0.20224383</td></tr><tr><td>Evolve</td><td>0.13060212</td></tr><tr><td>F B</td><td>0.04565501</td></tr><tr><td>FAINA LABS</td><td>0.04565501</td></tr><tr><td>FALLES</td><td>0.04565501</td></tr><tr><td>FIMAGO</td><td>0.04565501</td></tr><tr><td>FINESSE</td><td>0.04565501</td></tr><tr><td>FONDIIA</td><td>0.04565501</td></tr><tr><td>FRAGFRE</td><td>0.41748002</td></tr><tr><td>FRAGFRE�</td><td>0.26156738</td></tr><tr><td>FRAMESI</td><td>0.04565501</td></tr><tr><td>FRIDABABY</td><td>0.04565501</td></tr><tr><td>FUDGE</td><td>0.12645033</td></tr><tr><td>Fairy Tales</td><td>0.04565501</td></tr><tr><td>Fanola</td><td>0.04565501</td></tr><tr><td>Fekkai</td><td>0.04565501</td></tr><tr><td>Felps Professional</td><td>0.11084613</td></tr><tr><td>Finesse</td><td>0.04565501</td></tr><tr><td>Firenze Professional</td><td>0.1824469</td></tr><tr><td>Fix Your Lid</td><td>0.26427287</td></tr><tr><td>Flawless by Gabrielle Union</td><td>0.14394893</td></tr><tr><td>Freeze It</td><td>0.18486443</td></tr><tr><td>G4U</td><td>0.04565501</td></tr><tr><td>GARNIER</td><td>0.04565501</td></tr><tr><td>GARNIER FRUCTIS</td><td>0.04565501</td></tr><tr><td>GENERIC</td><td>0.05536217</td></tr><tr><td>GIOVANNI</td><td>0.04565501</td></tr><tr><td>GK HAIR</td><td>0.04565501</td></tr><tr><td>GK Hair</td><td>0.3373817</td></tr><tr><td>GO247</td><td>0.34792423</td></tr><tr><td>GOLDEN ARTIST COLORS</td><td>0.04984305</td></tr><tr><td>GOT2B</td><td>0.04565501</td></tr><tr><td>GREAT CLIPS</td><td>0.04565501</td></tr><tr><td>GSQ by GLAMSQUAD</td><td>0.08513642</td></tr><tr><td>GUERLAIN</td><td>0.2974573</td></tr><tr><td>GUMMY</td><td>0.04565501</td></tr><tr><td>Gamba Beauty</td><td>0.04565501</td></tr><tr><td>Garnier</td><td>0.04565501</td></tr><tr><td>Garnier Fructis Curl Nourish</td><td>0.19348703</td></tr><tr><td>Generic</td><td>0.04565501</td></tr><tr><td>Ginger Milk Natural Care</td><td>0.3969774</td></tr><tr><td>Giovanni</td><td>0.18169554</td></tr><tr><td>Gisou</td><td>0.28315732</td></tr><tr><td>Gluten-Free Savonnerie</td><td>0.04565501</td></tr><tr><td>Goiple</td><td>0.04565501</td></tr><tr><td>Got2B</td><td>0.19010524</td></tr><tr><td>Green People</td><td>0.04565501</td></tr><tr><td>Grisi</td><td>0.04565501</td></tr><tr><td>Grow Gorgeous</td><td>0.3008396</td></tr><tr><td>HAGUAN</td><td>0.04565501</td></tr><tr><td>HAIR BURST</td><td>0.21069913</td></tr><tr><td>HAIR CRAFT CO.</td><td>0.04565501</td></tr><tr><td>HAIRtamin</td><td>0.07602324</td></tr><tr><td>HASK</td><td>0.04565501</td></tr><tr><td>HASKELL</td><td>0.04565501</td></tr><tr><td>HIBAR</td><td>0.04565501</td></tr><tr><td>Hair Chemist</td><td>0.04565501</td></tr><tr><td>Hair Craft Co.</td><td>0.04565501</td></tr><tr><td>Hair Food</td><td>0.04565501</td></tr><tr><td>Hair Proud</td><td>0.19020288</td></tr><tr><td>Hair Shots by amy</td><td>0.04565501</td></tr><tr><td>Hair Speed</td><td>0.40072778</td></tr><tr><td>Hair Thickness Maximizer</td><td>0.04565501</td></tr><tr><td>Hair u wear</td><td>0.04565501</td></tr><tr><td>HairFX</td><td>0.04565501</td></tr><tr><td>HairXT100</td><td>0.04565501</td></tr><tr><td>Hask</td><td>0.2113129</td></tr><tr><td>Head & Shoulders</td><td>0.16219853</td></tr><tr><td>HealthBest</td><td>0.32448092</td></tr><tr><td>Hempz</td><td>0.04565501</td></tr><tr><td>Herbal Essences</td><td>0.20848988</td></tr><tr><td>Herbalvilla</td><td>0.04565501</td></tr><tr><td>Herbishh</td><td>0.04565501</td></tr><tr><td>Hesthetic</td><td>0.04565501</td></tr><tr><td>Hi-Pro-Pac</td><td>0.02143967</td></tr><tr><td>Histemo</td><td>0.21067885</td></tr><tr><td>Hobe Labs</td><td>0.2536808</td></tr><tr><td>Honeydew Intimates</td><td>0.33232307</td></tr><tr><td>Hot Tools</td><td>0.20960598</td></tr><tr><td>IGK</td><td>0.25434586</td></tr><tr><td>INDULEKHA</td><td>0.24077845</td></tr><tr><td>INEBRYA</td><td>0.04565501</td></tr><tr><td>IQ NATURAL</td><td>0.04565501</td></tr><tr><td>IRestore</td><td>0.21524431</td></tr><tr><td>Impala</td><td>0.04565501</td></tr><tr><td>Indie Hair</td><td>0.10063124</td></tr><tr><td>Inebrya</td><td>0.04565501</td></tr><tr><td>Influance</td><td>0.04565501</td></tr><tr><td>Inoar</td><td>0.04565501</td></tr><tr><td>Inova Professional</td><td>0.04565501</td></tr><tr><td>Ion</td><td>0.04565501</td></tr><tr><td>Isoplus</td><td>0.04565501</td></tr><tr><td>It's a 10</td><td>0.1810147</td></tr><tr><td>J'Organic Solutions</td><td>0.2580238</td></tr><tr><td>JAMAICAN MANGO & LIME</td><td>0.04565501</td></tr><tr><td>JASON</td><td>0.04565501</td></tr><tr><td>JESSICURL</td><td>0.04565501</td></tr><tr><td>JOSIE MARAN</td><td>0.26997283</td></tr><tr><td>JUST FOR ME</td><td>0.41265434</td></tr><tr><td>JVN</td><td>0.35724926</td></tr><tr><td>Jamaican Mango & Lime</td><td>0.04565501</td></tr><tr><td>JessEmet</td><td>0.04565501</td></tr><tr><td>John Frieda</td><td>0.04565501</td></tr><tr><td>John Masters Organics</td><td>0.26511928</td></tr><tr><td>Johnny B.</td><td>0.2333672</td></tr><tr><td>Joico</td><td>0.14570041</td></tr><tr><td>Jolly's</td><td>0.32730374</td></tr><tr><td>Jovees</td><td>0.04565501</td></tr><tr><td>Joyful Young</td><td>0.23099034</td></tr><tr><td>K18 Biomimetic Hairscience</td><td>0.3426854</td></tr><tr><td>KALIVE 2 STYLE</td><td>0.04565501</td></tr><tr><td>KAMEDIS</td><td>0.04565501</td></tr><tr><td>KANYON</td><td>0.04565501</td></tr><tr><td>KATIVA</td><td>0.04565501</td></tr><tr><td>KEEP IT HANDSOME</td><td>0.04565501</td></tr><tr><td>KERASILK</td><td>0.04565501</td></tr><tr><td>KERASTASE</td><td>0.35975915</td></tr><tr><td>KESH KING</td><td>0.333569</td></tr><tr><td>KEUNE</td><td>0.04565501</td></tr><tr><td>KEVIN MURPHY</td><td>0.04565501</td></tr><tr><td>KIEHL'S</td><td>0.04565501</td></tr><tr><td>KMS</td><td>0.04565501</td></tr><tr><td>KMS California</td><td>0.029393291</td></tr><tr><td>KUZA</td><td>0.04565501</td></tr><tr><td>Kachita Spell</td><td>0.04565501</td></tr><tr><td>KareCo</td><td>0.17221396</td></tr><tr><td>Kenra</td><td>0.16549641</td></tr><tr><td>Kenra Professional</td><td>0.15358391</td></tr><tr><td>KeraCare</td><td>0.04565501</td></tr><tr><td>Kesh King</td><td>0.20347421</td></tr><tr><td>Keune</td><td>0.037056435</td></tr><tr><td>Kim Kimble</td><td>0.27797928</td></tr><tr><td>Kimtrue</td><td>0.04565501</td></tr><tr><td>Kismera</td><td>0.04565501</td></tr><tr><td>Kitsch</td><td>0.15525013</td></tr><tr><td>Klorane</td><td>0.110619</td></tr><tr><td>Kristin Ess</td><td>0.14896809</td></tr><tr><td>Kuza</td><td>0.04565501</td></tr><tr><td>Kérastase</td><td>0.25458062</td></tr><tr><td>L LUSETA</td><td>0.04565501</td></tr><tr><td>L'ANGE HAIR</td><td>0.04565501</td></tr><tr><td>L'ANZA</td><td>0.04565501</td></tr><tr><td>L'OREAL PARIS</td><td>0.30547488</td></tr><tr><td>L'OREAL PROFESSIONNEL PARIS</td><td>0.04565501</td></tr><tr><td>L'ORÉAL PROFESSIONNEL</td><td>0.04565501</td></tr><tr><td>L'Occitane</td><td>0.17302886</td></tr><tr><td>L'Oreal</td><td>0.139433</td></tr><tr><td>L'Oreal Paris</td><td>0.15015636</td></tr><tr><td>L'Oréal</td><td>0.15965128</td></tr><tr><td>L3VEL3</td><td>0.04565501</td></tr><tr><td>LA BEAUTÉ Hair Professionals</td><td>0.22131968</td></tr><tr><td>LA LOOKS</td><td>0.12575004</td></tr><tr><td>LABEL M</td><td>0.04565501</td></tr><tr><td>LABEL.M</td><td>0.04565501</td></tr><tr><td>LAVG KABAR</td><td>0.2664161</td></tr><tr><td>LAYRITE</td><td>0.04565501</td></tr><tr><td>LDN Professional</td><td>0.04565501</td></tr><tr><td>LIYALAN</td><td>0.04565501</td></tr><tr><td>LKSJBQ</td><td>0.04565501</td></tr><tr><td>LOCAFELLA LOCS</td><td>0.04565501</td></tr><tr><td>LOLA</td><td>0.04565501</td></tr><tr><td>LOMA HAIR CARE</td><td>0.04565501</td></tr><tr><td>LOMA LUX</td><td>0.04565501</td></tr><tr><td>LUX COLLECTION</td><td>0.04565501</td></tr><tr><td>LavidouX</td><td>0.04565501</td></tr><tr><td>Layrite</td><td>0.3310514</td></tr><tr><td>Le Petit Marseillais</td><td>0.28753522</td></tr><tr><td>Lice Queen</td><td>0.04565501</td></tr><tr><td>Living Proof</td><td>0.23827602</td></tr><tr><td>Living proof</td><td>0.04565501</td></tr><tr><td>Lola Brasil</td><td>0.087408505</td></tr><tr><td>Loma</td><td>0.04565501</td></tr><tr><td>Love Beauty And Planet</td><td>0.04565501</td></tr><tr><td>Love Beauty and Planet</td><td>0.29891166</td></tr><tr><td>LuxeOrganix</td><td>0.38467544</td></tr><tr><td>Luxiny</td><td>0.04565501</td></tr><tr><td>L’Oréal Paris</td><td>0.04565501</td></tr><tr><td>M J JOMAY</td><td>0.04565501</td></tr><tr><td>M MOÉRIE</td><td>0.04565501</td></tr><tr><td>MILK_SHAKE</td><td>0.43706378</td></tr><tr><td>MISS JESSIE'S</td><td>0.1218404</td></tr><tr><td>MIXED CHICKS</td><td>0.32675317</td></tr><tr><td>MOEHAIR</td><td>0.04565501</td></tr><tr><td>MONAT</td><td>0.07478236</td></tr><tr><td>MONDAY Haircare</td><td>0.25070238</td></tr><tr><td>MOON VALLEY ORGANICS</td><td>0.04565501</td></tr><tr><td>MOP</td><td>0.15798998</td></tr><tr><td>Maani Essence</td><td>0.04565501</td></tr><tr><td>Macadamia Natural Oil Rejuvenating Shampoo 10 oz</td><td>0.04565501</td></tr><tr><td>Macadamia Professional</td><td>0.04565501</td></tr><tr><td>Madam C. J. Walker</td><td>0.2537395</td></tr><tr><td>Madison Reed</td><td>0.2923321</td></tr><tr><td>Man Arden</td><td>0.04565501</td></tr><tr><td>Mancro</td><td>0.14202404</td></tr><tr><td>Mane 'n Tail</td><td>0.04565501</td></tr><tr><td>Maple Holistics</td><td>0.33046448</td></tr><tr><td>Marc Anthony</td><td>0.21704157</td></tr><tr><td>Marlen</td><td>7.6954544E-4</td></tr><tr><td>Matrix</td><td>0.15439188</td></tr><tr><td>Maui Moisture</td><td>0.22935249</td></tr><tr><td>Max Factor</td><td>0.04565501</td></tr><tr><td>MeeShirer</td><td>0.4012753</td></tr><tr><td>Mega Growth</td><td>0.19534677</td></tr><tr><td>Melanin Haircare</td><td>0.26890692</td></tr><tr><td>Men Rock</td><td>0.04565501</td></tr><tr><td>Michiru</td><td>0.2808071</td></tr><tr><td>Mielle</td><td>0.13326338</td></tr><tr><td>Milano Care</td><td>0.04565501</td></tr><tr><td>Milk_shake</td><td>0.04565501</td></tr><tr><td>Mill Creek Botanicals</td><td>0.13196678</td></tr><tr><td>Milmil</td><td>0.04565501</td></tr><tr><td>Milva</td><td>0.04565501</td></tr><tr><td>Mise En Scene</td><td>0.039667632</td></tr><tr><td>Miss Jessie's</td><td>0.1569173</td></tr><tr><td>Miss Key</td><td>0.011154482</td></tr><tr><td>Mixed Chicks</td><td>0.25892955</td></tr><tr><td>Mizani</td><td>0.16588913</td></tr><tr><td>Moco de Gorila</td><td>0.16620955</td></tr><tr><td>Molivera Organics</td><td>0.04565501</td></tr><tr><td>MooGoo</td><td>0.04565501</td></tr><tr><td>Moringa-O2</td><td>0.04565501</td></tr><tr><td>Moroccanoil</td><td>0.04565501</td></tr><tr><td>Motions</td><td>0.018336192</td></tr><tr><td>Mut Dynasty</td><td>0.04565501</td></tr><tr><td>Mydentity</td><td>0.19282345</td></tr><tr><td>NATIVE</td><td>0.18851878</td></tr><tr><td>NE Beauty Source</td><td>0.04565501</td></tr><tr><td>NECTAR DU MONDE</td><td>0.19840042</td></tr><tr><td>NEUMA</td><td>0.36740094</td></tr><tr><td>NEXXUS</td><td>0.27168238</td></tr><tr><td>NIFEISHI</td><td>0.04565501</td></tr><tr><td>NIZORAL</td><td>0.29304597</td></tr><tr><td>NOVEX</td><td>0.04565501</td></tr><tr><td>Nairobi</td><td>0.04565501</td></tr><tr><td>Naples Soap Company Naturally Better Skin Care</td><td>0.4192346</td></tr><tr><td>Native</td><td>0.20871033</td></tr><tr><td>Natural Therapy</td><td>0.03022441</td></tr><tr><td>Nature's Ego</td><td>0.14427157</td></tr><tr><td>Nature's Protein</td><td>0.04565501</td></tr><tr><td>Neuma</td><td>0.23310733</td></tr><tr><td>Neutrogena</td><td>0.04565501</td></tr><tr><td>Nexxus</td><td>0.19118531</td></tr><tr><td>Nick Chavez</td><td>0.22698478</td></tr><tr><td>Nioxin</td><td>0.20848867</td></tr><tr><td>Noah</td><td>0.43389896</td></tr><tr><td>Not Your Mother's</td><td>0.17154934</td></tr><tr><td>Noughty</td><td>0.04565501</td></tr><tr><td>Nvyue</td><td>0.25309336</td></tr><tr><td>Nécessaire</td><td>0.04565501</td></tr><tr><td>OETUIOW</td><td>0.04565501</td></tr><tr><td>OGILVIE</td><td>0.04565501</td></tr><tr><td>OGX</td><td>0.13856183</td></tr><tr><td>OJJ</td><td>0.04565501</td></tr><tr><td>OLAPLEX</td><td>0.20314239</td></tr><tr><td>ONESTA HAIR CARE</td><td>0.38877118</td></tr><tr><td>ONLY4HAIR</td><td>0.23956552</td></tr><tr><td>OPPEAL.HOSMALL</td><td>0.04565501</td></tr><tr><td>ORGANIC ROOT STIMULATOR</td><td>0.04565501</td></tr><tr><td>ORLANDO PITA PLAY</td><td>0.04565501</td></tr><tr><td>ORS</td><td>0.14270662</td></tr><tr><td>ORS HAIREPAIR</td><td>0.04565501</td></tr><tr><td>OUAI</td><td>0.04565501</td></tr><tr><td>OUIDAD</td><td>0.04565501</td></tr><tr><td>Odele</td><td>0.17112611</td></tr><tr><td>Olay</td><td>0.18298166</td></tr><tr><td>Old Spice</td><td>0.16682306</td></tr><tr><td>On Orgainc Natural</td><td>0.04565501</td></tr><tr><td>Onesta Hair Care</td><td>0.1846973</td></tr><tr><td>Organic Harvest</td><td>0.389978</td></tr><tr><td>Oribe</td><td>0.14936385</td></tr><tr><td>Original Sprout</td><td>0.04565501</td></tr><tr><td>Originals by Africa's Best</td><td>0.04565501</td></tr><tr><td>Ouidad</td><td>0.22781748</td></tr><tr><td>PACINOS</td><td>0.22489887</td></tr><tr><td>PATTERN</td><td>0.04565501</td></tr><tr><td>PATTERN by Tracee Ellis Ross</td><td>0.24098611</td></tr><tr><td>PAUL MITCHELL</td><td>0.04565501</td></tr><tr><td>PH PURE HAIR</td><td>0.04565501</td></tr><tr><td>PHARMACEUTICAL SPECIALTIES</td><td>0.04565501</td></tr><tr><td>PHILIP B</td><td>0.04565501</td></tr><tr><td>PROCLAIM</td><td>0.04565501</td></tr><tr><td>PURA D'OR</td><td>0.32447085</td></tr><tr><td>PUREOLOGY</td><td>0.04565501</td></tr><tr><td>Pacific Spirit</td><td>0.27833354</td></tr><tr><td>Pacifica</td><td>0.20129132</td></tr><tr><td>Packer's Pine</td><td>0.04565501</td></tr><tr><td>Pallure</td><td>0.04565501</td></tr><tr><td>Palm</td><td>0.16270399</td></tr><tr><td>Pantene</td><td>0.04565501</td></tr><tr><td>Pantogar</td><td>0.081118</td></tr><tr><td>Paul Mitchell</td><td>0.08370175</td></tr><tr><td>Paya Organics</td><td>0.16192754</td></tr><tr><td>Peach not Plastic</td><td>0.04565501</td></tr><tr><td>Perlier</td><td>0.4328871</td></tr><tr><td>Phyto</td><td>0.15085793</td></tr><tr><td>Planet Goody</td><td>0.11849083</td></tr><tr><td>Plantanicals</td><td>0.04565501</td></tr><tr><td>Plantur</td><td>0.04565501</td></tr><tr><td>Prell</td><td>0.2716458</td></tr><tr><td>Prive</td><td>0.39679947</td></tr><tr><td>Pro-line Racing</td><td>0.04565501</td></tr><tr><td>Proclaim</td><td>0.12537156</td></tr><tr><td>Prohall Cosmetic</td><td>0.19830608</td></tr><tr><td>Prosoria</td><td>0.04565501</td></tr><tr><td>Punky Colour</td><td>0.19290695</td></tr><tr><td>Pura d'or</td><td>0.122921504</td></tr><tr><td>Pure Culture Beauty</td><td>0.2459086</td></tr><tr><td>Pureology</td><td>0.04565501</td></tr><tr><td>Qhemet Biologics</td><td>0.04565501</td></tr><tr><td>R+Co</td><td>0.04565501</td></tr><tr><td>RATED GREEN</td><td>0.18499498</td></tr><tr><td>REUZEL INC</td><td>0.31874627</td></tr><tr><td>REVLON</td><td>0.04565501</td></tr><tr><td>ROGAINE</td><td>0.22876473</td></tr><tr><td>ROLDA</td><td>0.04565501</td></tr><tr><td>RUSK</td><td>0.04565501</td></tr><tr><td>Raw Sugar</td><td>0.25635433</td></tr><tr><td>RealRaw</td><td>0.20076157</td></tr><tr><td>Red by Kiss</td><td>0.04565501</td></tr><tr><td>Redken</td><td>0.16686618</td></tr><tr><td>Rene Furterer</td><td>0.04565501</td></tr><tr><td>Renpure</td><td>0.0574486</td></tr><tr><td>Research Verified</td><td>0.04565501</td></tr><tr><td>Rita Hazan</td><td>0.13950361</td></tr><tr><td>Rizos Curls</td><td>0.289542</td></tr><tr><td>Rock Your Hair</td><td>0.04565501</td></tr><tr><td>Rogaine</td><td>0.04565501</td></tr><tr><td>Rootly</td><td>0.258524</td></tr><tr><td>Roselle Naturals</td><td>0.04565501</td></tr><tr><td>Rossano Ferretti Parma</td><td>0.33848354</td></tr><tr><td>Royal Crown Foods</td><td>0.25493777</td></tr><tr><td>Royco Professional</td><td>0.04565501</td></tr><tr><td>Rusk</td><td>0.07604715</td></tr><tr><td>SAPHIRA MINERAL ESSENTIALS</td><td>0.04565501</td></tr><tr><td>SCHWARZKOPF</td><td>0.04565501</td></tr><tr><td>SCOBUTY</td><td>0.04565501</td></tr><tr><td>SEBASTIAN</td><td>0.04565501</td></tr><tr><td>SENSIVO</td><td>0.04565501</td></tr><tr><td>SERGE NORMANT</td><td>0.04565501</td></tr><tr><td>SGX NYC</td><td>0.18824942</td></tr><tr><td>SHAY NATURAL</td><td>0.04565501</td></tr><tr><td>SHAZ & KIKS</td><td>0.34249195</td></tr><tr><td>SHIFAKOU</td><td>0.04565501</td></tr><tr><td>SMART SOLUTIONS</td><td>0.04565501</td></tr><tr><td>SP Bel-Art</td><td>0.12179181</td></tr><tr><td>SUAVECITO</td><td>0.04565501</td></tr><tr><td>SWANSON PREMIUM BRAND</td><td>0.23256776</td></tr><tr><td>Sachajuan</td><td>0.18330288</td></tr><tr><td>Saints & Sinners</td><td>0.04565501</td></tr><tr><td>Salerm</td><td>0.04565501</td></tr><tr><td>Salon Care</td><td>0.04565501</td></tr><tr><td>Salon Line</td><td>0.04565501</td></tr><tr><td>Salon Pro</td><td>0.04565501</td></tr><tr><td>Sandhill Tools</td><td>0.13053939</td></tr><tr><td>Saphira</td><td>0.4024561</td></tr><tr><td>Savannah Hair Therapy</td><td>0.04565501</td></tr><tr><td>Schizandu Organics</td><td>0.30350962</td></tr><tr><td>Schwarzkopf</td><td>0.04565501</td></tr><tr><td>Schwarzkopf by Sleekshop</td><td>0.13762335</td></tr><tr><td>Scunci</td><td>0.19423631</td></tr><tr><td>Sebastian Professional</td><td>0.08685301</td></tr><tr><td>Sedal</td><td>0.04565501</td></tr><tr><td>Selsun Blue</td><td>0.04565501</td></tr><tr><td>Serge Normant</td><td>0.04565501</td></tr><tr><td>Seven Minerals</td><td>0.04565501</td></tr><tr><td>Sexy Hair</td><td>0.20995921</td></tr><tr><td>Shapiro MD</td><td>0.14725286</td></tr><tr><td>SheaMoisture</td><td>0.22604056</td></tr><tr><td>SheaMoisture Kids</td><td>0.27804124</td></tr><tr><td>ShiKai</td><td>0.04565501</td></tr><tr><td>Shiny Leaf</td><td>0.04565501</td></tr><tr><td>Short Sexy Hair</td><td>0.13633774</td></tr><tr><td>Shu Uemura</td><td>0.12808566</td></tr><tr><td>Sienna Naturals</td><td>0.21390145</td></tr><tr><td>Silicon Mix</td><td>0.04565501</td></tr><tr><td>Simida</td><td>0.29145366</td></tr><tr><td>Skala</td><td>0.12465266</td></tr><tr><td>Skala (scalar)</td><td>0.04565501</td></tr><tr><td>Slip</td><td>0.12984645</td></tr><tr><td>Slopehill</td><td>0.26376033</td></tr><tr><td>Soft & Beautiful</td><td>0.04565501</td></tr><tr><td>Soft-Sheen Carson</td><td>0.04565501</td></tr><tr><td>SoftSheen-Carson</td><td>0.04565501</td></tr><tr><td>Softsheen-Carson</td><td>0.1642665</td></tr><tr><td>Solar Recover</td><td>0.04565501</td></tr><tr><td>Sphagnum Botanicals</td><td>0.04565501</td></tr><tr><td>Spice</td><td>0.026668329</td></tr><tr><td>St. Tropica</td><td>0.04565501</td></tr><tr><td>Style Factor</td><td>0.04565501</td></tr><tr><td>Suave</td><td>0.04565501</td></tr><tr><td>Sulfur 8</td><td>0.04565501</td></tr><tr><td>Sun Bum</td><td>0.21996646</td></tr><tr><td>Sunday II Sunday</td><td>0.25738797</td></tr><tr><td>Sunny Isle</td><td>0.04565501</td></tr><tr><td>TANGDA</td><td>0.1591676</td></tr><tr><td>TAYA I AM.</td><td>0.04565501</td></tr><tr><td>THESALONGUY</td><td>0.04565501</td></tr><tr><td>THREE FLOWERS</td><td>0.04565501</td></tr><tr><td>TIFALEX</td><td>0.04565501</td></tr><tr><td>TIGI</td><td>0.04565501</td></tr><tr><td>TNOODA</td><td>0.31913996</td></tr><tr><td>TOPPIK</td><td>0.04565501</td></tr><tr><td>TOTEX</td><td>0.04565501</td></tr><tr><td>TPH BY TARAJI</td><td>0.04565501</td></tr><tr><td>TPH by TARAJI</td><td>0.22350152</td></tr><tr><td>TRESemme</td><td>0.3243907</td></tr><tr><td>TRESemmé</td><td>0.17103426</td></tr><tr><td>TRIDESIGN</td><td>0.40819183</td></tr><tr><td>TRUSS</td><td>0.04565501</td></tr><tr><td>TUEXCIRA</td><td>0.04565501</td></tr><tr><td>TWIST</td><td>0.04565501</td></tr><tr><td>Tala</td><td>0.04565501</td></tr><tr><td>Taliah Waajid</td><td>0.18329202</td></tr><tr><td>Tangle Teezer</td><td>0.22069173</td></tr><tr><td>The Body Shop</td><td>0.38679573</td></tr><tr><td>The Hair Edit</td><td>0.111816995</td></tr><tr><td>The Mane Choice</td><td>0.04565501</td></tr><tr><td>The Republic of Tea</td><td>0.121838965</td></tr><tr><td>The Rich Barber</td><td>0.04565501</td></tr><tr><td>Tree to Tub</td><td>0.29840332</td></tr><tr><td>Tres flores</td><td>0.04565501</td></tr><tr><td>Tresemme</td><td>0.3262808</td></tr><tr><td>True+Real</td><td>0.04565501</td></tr><tr><td>Trustrx</td><td>0.040197536</td></tr><tr><td>UPPERCUT DELUXE</td><td>0.04565501</td></tr><tr><td>Uhuru Naturals</td><td>0.04565501</td></tr><tr><td>Uncle Funky's Daughter</td><td>0.04565501</td></tr><tr><td>UpgradeWith</td><td>0.04565501</td></tr><tr><td>Urban Decay</td><td>0.04565501</td></tr><tr><td>Ustraa</td><td>0.2664161</td></tr><tr><td>VERB</td><td>0.04565501</td></tr><tr><td>VIA NATURAL</td><td>0.04565501</td></tr><tr><td>VITALITY'S BY FARMEN</td><td>0.18459009</td></tr><tr><td>VOLLUCK</td><td>0.04565501</td></tr><tr><td>VOLUMAX</td><td>0.04565501</td></tr><tr><td>Valleylux</td><td>0.2989837</td></tr><tr><td>Verb</td><td>0.21918602</td></tr><tr><td>Via Natural</td><td>0.04565501</td></tr><tr><td>Virtue</td><td>0.32865164</td></tr><tr><td>Vita Coco</td><td>0.2140378</td></tr><tr><td>Vital Care</td><td>0.04565501</td></tr><tr><td>Vitex</td><td>0.28943312</td></tr><tr><td>Viviscal</td><td>0.26770434</td></tr><tr><td>Vocks</td><td>0.04565501</td></tr><tr><td>WELLNESS PREMIUM PRODUCTS</td><td>0.15626451</td></tr><tr><td>WFWJ</td><td>0.31276318</td></tr><tr><td>WHITE RAIN</td><td>0.14923017</td></tr><tr><td>WOODY'S</td><td>0.04565501</td></tr><tr><td>Watercolors</td><td>0.04565501</td></tr><tr><td>Watermans</td><td>0.04565501</td></tr><tr><td>Wellness Premium Products</td><td>0.04565501</td></tr><tr><td>Wet Brush</td><td>0.14210494</td></tr><tr><td>Wet Line</td><td>0.20201905</td></tr><tr><td>White Rain</td><td>0.13172789</td></tr><tr><td>White Rain Body Wash</td><td>0.12317381</td></tr><tr><td>Whiteh</td><td>0.04565501</td></tr><tr><td>Wild</td><td>0.09300014</td></tr><tr><td>XFusion</td><td>0.04565501</td></tr><tr><td>XMONDO</td><td>0.2873961</td></tr><tr><td>YAFUSIPE</td><td>0.04565501</td></tr><tr><td>YLNALO</td><td>0.04565501</td></tr><tr><td>ZENAGEN</td><td>0.04565501</td></tr><tr><td>Zap</td><td>0.04565501</td></tr><tr><td>Zatik</td><td>0.04565501</td></tr><tr><td>Zyyini</td><td>0.04565501</td></tr><tr><td>amika</td><td>0.2715594</td></tr><tr><td>eva+avo</td><td>0.17486635</td></tr><tr><td>fyab</td><td>0.04565501</td></tr><tr><td>hair rules</td><td>0.04565501</td></tr><tr><td>hims</td><td>0.25804305</td></tr><tr><td>invisibobble</td><td>0.09519008</td></tr><tr><td>natura</td><td>0.024834726</td></tr><tr><td>organix</td><td>0.04565501</td></tr><tr><td>regis designline</td><td>0.04565501</td></tr><tr><td>simplyO</td><td>0.04565501</td></tr><tr><td>tarte</td><td>0.18473999</td></tr><tr><td>the doux</td><td>0.04565501</td></tr><tr><td>up & up</td><td>0.13731165</td></tr><tr><td>ÉN LOVE</td><td>0.04565501</td></tr></tbody></table></div>"
      ]
     },
     "metadata": {
      "application/vnd.databricks.v1+output": {
       "addedWidgets": {},
       "aggData": [],
       "aggError": "",
       "aggOverflow": false,
       "aggSchema": [],
       "aggSeriesLimitReached": false,
       "aggType": "",
       "arguments": {},
       "columnCustomDisplayInfos": {},
       "data": [
        [
         "",
         0.04565501
        ],
        [
         "(RE)FRESH",
         0.23240946
        ],
        [
         "/liv/ Nature",
         0.04565501
        ],
        [
         "ABBA",
         0.04565501
        ],
        [
         "ACM Laboratoire dermatologique",
         0.04565501
        ],
        [
         "ACTROL",
         0.04565501
        ],
        [
         "ADDERENITY",
         0.04565501
        ],
        [
         "ADWOA BEAUTY",
         0.26397052
        ],
        [
         "AFRO & RIZO",
         0.23280373
        ],
        [
         "AG Care",
         0.04565501
        ],
        [
         "AGOPLEE",
         0.27965817
        ],
        [
         "ALBERTO VO5",
         0.04565501
        ],
        [
         "ALTERNA Haircare",
         0.2747017
        ],
        [
         "AMERICAN CREW",
         0.04565501
        ],
        [
         "AMIKA",
         0.04565501
        ],
        [
         "ANEFOSE",
         0.04565501
        ],
        [
         "ANIHANA",
         0.46204326
        ],
        [
         "ANYELUZ",
         0.04565501
        ],
        [
         "ARVAZALLIA",
         0.3350639
        ],
        [
         "ATTITUDE",
         0.04565501
        ],
        [
         "AUSSIE",
         0.3600943
        ],
        [
         "AVEDA",
         0.04565501
        ],
        [
         "Abril Et Nature",
         0.04565501
        ],
        [
         "Absolute",
         0.04565501
        ],
        [
         "Ace high",
         0.35316843
        ],
        [
         "Acure",
         0.04565501
        ],
        [
         "Aeiniwer",
         0.04565501
        ],
        [
         "Aesop",
         0.04565501
        ],
        [
         "Africa's Best",
         0.028227553
        ],
        [
         "African Delights",
         0.23599522
        ],
        [
         "African Pride",
         0.40160972
        ],
        [
         "Africare",
         0.1900179
        ],
        [
         "Afro Love",
         0.04565501
        ],
        [
         "Agthyuve",
         0.04565501
        ],
        [
         "Alaffia",
         0.04565501
        ],
        [
         "Alberto VO5",
         0.1381155
        ],
        [
         "Alevai",
         0.2872724
        ],
        [
         "Alice + Co.",
         0.04565501
        ],
        [
         "Alikay Naturals",
         0.04565501
        ],
        [
         "All Day Locks",
         0.12369419
        ],
        [
         "All-Nutrient",
         0.04565501
        ],
        [
         "Alma Belleza",
         0.04565501
        ],
        [
         "Alpecin",
         0.04565501
        ],
        [
         "Alterna Haircare",
         0.04565501
        ],
        [
         "AmPro",
         0.04565501
        ],
        [
         "Ambiance Dry Shampoo",
         0.04565501
        ],
        [
         "American Crew",
         0.19917364
        ],
        [
         "Amika",
         0.16311784
        ],
        [
         "AminoGenesis",
         0.04565501
        ],
        [
         "Andrew Fitzsimons",
         0.2924
        ],
        [
         "Anti-Aging Extracts",
         0.04565501
        ],
        [
         "Aphogee",
         0.03006411
        ],
        [
         "Aquableu",
         0.04565501
        ],
        [
         "Aquage",
         0.2280545
        ],
        [
         "Aquaphor",
         0.23520029
        ],
        [
         "Arbol Verde",
         0.35848483
        ],
        [
         "Arlo's",
         0.18706837
        ],
        [
         "Arm & Hammer",
         0.04565501
        ],
        [
         "Aromatic Hair Growth",
         0.27198416
        ],
        [
         "Art Class",
         0.12402742
        ],
        [
         "Artnaturals",
         0.04565501
        ],
        [
         "Atlas Ethnic",
         0.18683548
        ],
        [
         "Aunt Jackie's",
         0.04565501
        ],
        [
         "Aussie",
         0.23433734
        ],
        [
         "Autoglym",
         0.04565501
        ],
        [
         "Avalon Organics",
         0.04565501
        ],
        [
         "Aveda",
         0.04565501
        ],
        [
         "Avlon",
         0.04565501
        ],
        [
         "Ayurvedashree",
         0.29857385
        ],
        [
         "Azufre Veri",
         0.04565501
        ],
        [
         "BABE ORIGINAL",
         0.04565501
        ],
        [
         "BAMBOEARTH",
         0.04565501
        ],
        [
         "BCURVED",
         0.04565501
        ],
        [
         "BIOLAGE",
         0.04565501
        ],
        [
         "BLACK ICE",
         0.06739883
        ],
        [
         "BOLD UNIQ",
         0.04565501
        ],
        [
         "BOOST N BLEND",
         0.04565501
        ],
        [
         "BOTANICAL GREEN CARE",
         0.04565501
        ],
        [
         "BREAD BEAUTY SUPPLY",
         0.21389443
        ],
        [
         "BTZ",
         0.04565501
        ],
        [
         "Banana Boat",
         0.10876659
        ],
        [
         "Base Butter",
         0.17408536
        ],
        [
         "Bathwe",
         0.27200645
        ],
        [
         "Batiste",
         0.04565501
        ],
        [
         "Be unbeweaveable",
         0.04565501
        ],
        [
         "Beauty Nature",
         0.04565501
        ],
        [
         "Beauty by Earth",
         0.14051686
        ],
        [
         "Bed Head",
         0.04565501
        ],
        [
         "Biguy",
         0.21142341
        ],
        [
         "Bilo",
         0.107108004
        ],
        [
         "Bioderma",
         0.13936004
        ],
        [
         "Biolage",
         0.04565501
        ],
        [
         "Biosilk",
         0.20417173
        ],
        [
         "Biotique",
         0.3638868
        ],
        [
         "Bisou Bisou Bisou",
         0.37454727
        ],
        [
         "Black Ice",
         0.04565501
        ],
        [
         "BlondMe",
         0.04565501
        ],
        [
         "Blowpro",
         0.15989812
        ],
        [
         "Bondi Boost",
         0.2146292
        ],
        [
         "BondiBoost",
         0.30118427
        ],
        [
         "Bonsai Kids Hair Care",
         0.32402688
        ],
        [
         "BosleyMD",
         0.306412
        ],
        [
         "Botanic Hearth",
         0.27662328
        ],
        [
         "Briogeo",
         0.2660605
        ],
        [
         "Briogeo Hair Care",
         0.04565501
        ],
        [
         "Bronner Brothers",
         0.03836889
        ],
        [
         "Bumble and Bumble",
         0.04565501
        ],
        [
         "Bumble and bumble",
         0.26339385
        ],
        [
         "By Vilain",
         0.04565501
        ],
        [
         "CAKE BEAUTY",
         0.04565501
        ],
        [
         "CANVIIY",
         0.04565501
        ],
        [
         "CAPTAIN BLANKENSHIP",
         0.04565501
        ],
        [
         "CAROL'S DAUGHTER",
         0.04565501
        ],
        [
         "CATINA ORGANIC",
         0.20661125
        ],
        [
         "CCHUDE",
         0.04565501
        ],
        [
         "CELRAUM",
         0.04565501
        ],
        [
         "CHALLENGER",
         0.26395094
        ],
        [
         "CHI",
         0.04565501
        ],
        [
         "CLIGANIC",
         0.04565501
        ],
        [
         "COCOCHOCO",
         0.04565501
        ],
        [
         "COLOR WOW",
         0.04565501
        ],
        [
         "COSMOCOS",
         0.04565501
        ],
        [
         "CRIUS COSMETICS",
         0.04565501
        ],
        [
         "CROOT",
         0.04565501
        ],
        [
         "CRÈME OF NATURE",
         0.19771878
        ],
        [
         "CUTTO -THE BEAUTY OF NATURE",
         0.18922815
        ],
        [
         "Cake",
         0.13679509
        ],
        [
         "Cake Beauty",
         0.23154727
        ],
        [
         "Camille Rose",
         0.04565501
        ],
        [
         "Camille Rose Naturals",
         0.21178384
        ],
        [
         "Cantu",
         0.04565501
        ],
        [
         "Carol's Daughter",
         0.04565501
        ],
        [
         "Caroline Keller",
         0.04565501
        ],
        [
         "Cat & Jack",
         0.14250214
        ],
        [
         "Christina Moss Naturals",
         0.04565501
        ],
        [
         "Ciamlir",
         0.28803933
        ],
        [
         "Clairol",
         0.11657182
        ],
        [
         "Cliganic",
         0.04565501
        ],
        [
         "Clubman",
         0.04565501
        ],
        [
         "Codeage",
         0.20216425
        ],
        [
         "Color Edge",
         0.3880108
        ],
        [
         "Comfier",
         0.15918407
        ],
        [
         "Consort",
         0.04565501
        ],
        [
         "Consort For Men",
         0.12454683
        ],
        [
         "Creme of Nature",
         0.23269208
        ],
        [
         "Cremo",
         0.14168894
        ],
        [
         "Curlisto",
         0.04565501
        ],
        [
         "Curls Unleashed",
         0.34182072
        ],
        [
         "Curlsmith",
         0.2734671
        ],
        [
         "CurlyKids",
         0.20265846
        ],
        [
         "Cuteam",
         0.14760898
        ],
        [
         "DABIUSY",
         0.25407302
        ],
        [
         "DASHU",
         0.04565501
        ],
        [
         "DESIGNLINE",
         0.04565501
        ],
        [
         "DHS",
         0.04565501
        ],
        [
         "DIR",
         0.04565501
        ],
        [
         "DOO GRO",
         0.04565501
        ],
        [
         "DOVE",
         0.04565501
        ],
        [
         "DREAD HEAD HQ",
         0.04565501
        ],
        [
         "Dabur",
         0.04565501
        ],
        [
         "Davines",
         0.28177053
        ],
        [
         "De Fabulous",
         0.04565501
        ],
        [
         "Delvaux",
         0.15364072
        ],
        [
         "Design Essentials",
         0.04565501
        ],
        [
         "Design.Me",
         0.04565501
        ],
        [
         "Dessange",
         0.04565501
        ],
        [
         "DevaCurl",
         0.11589038
        ],
        [
         "Difeel",
         0.17846255
        ],
        [
         "Donna",
         0.08571189
        ],
        [
         "Donna's Recipe",
         0.14687511
        ],
        [
         "Dove",
         0.04565501
        ],
        [
         "Dove Men+Care",
         0.15980104
        ],
        [
         "Dr Teal's",
         0.20377994
        ],
        [
         "Dr. Bronner's",
         0.13912712
        ],
        [
         "Dr. Miracle's",
         0.04565501
        ],
        [
         "Drybar",
         0.16093008
        ],
        [
         "Duke Cannon",
         0.1569852
        ],
        [
         "EBIN NEW YORK",
         0.20539705
        ],
        [
         "EBIN New York",
         0.1748155
        ],
        [
         "ECCO",
         0.04565501
        ],
        [
         "EL MITO",
         0.27607927
        ],
        [
         "ELC Dao of Hair",
         0.04565501
        ],
        [
         "ENVISHA",
         0.04565501
        ],
        [
         "ETUIH",
         0.04565501
        ],
        [
         "EVA·NYC",
         0.04565501
        ],
        [
         "EVER EGO ITALY PROFESSIONAL HAIR PRODUCTS",
         0.04565501
        ],
        [
         "EZEDGE",
         0.04565501
        ],
        [
         "Earnest Mom",
         0.04565501
        ],
        [
         "Earth Science",
         0.04565501
        ],
        [
         "Earth Supplied",
         0.04565501
        ],
        [
         "Eclat Skincare® - #1 Dermatologist Recommended",
         0.27994394
        ],
        [
         "Eco Style",
         0.14009582
        ],
        [
         "Ecoco",
         0.22378129
        ],
        [
         "Eden BodyWorks",
         0.2222208
        ],
        [
         "EleaEleanor",
         0.2933614
        ],
        [
         "Eleni & Chris",
         0.25086784
        ],
        [
         "Energizer",
         0.04565501
        ],
        [
         "Enjoy",
         0.04565501
        ],
        [
         "Enliven",
         0.04565501
        ],
        [
         "Equate",
         0.16308707
        ],
        [
         "Ethica Beauty",
         0.47609827
        ],
        [
         "Ethique",
         0.04565501
        ],
        [
         "Eufora",
         0.019346686
        ],
        [
         "Eva Nyc",
         0.2756292
        ],
        [
         "Evereden",
         0.04565501
        ],
        [
         "Every Man Jack",
         0.20224383
        ],
        [
         "Evolve",
         0.13060212
        ],
        [
         "F B",
         0.04565501
        ],
        [
         "FAINA LABS",
         0.04565501
        ],
        [
         "FALLES",
         0.04565501
        ],
        [
         "FIMAGO",
         0.04565501
        ],
        [
         "FINESSE",
         0.04565501
        ],
        [
         "FONDIIA",
         0.04565501
        ],
        [
         "FRAGFRE",
         0.41748002
        ],
        [
         "FRAGFRE�",
         0.26156738
        ],
        [
         "FRAMESI",
         0.04565501
        ],
        [
         "FRIDABABY",
         0.04565501
        ],
        [
         "FUDGE",
         0.12645033
        ],
        [
         "Fairy Tales",
         0.04565501
        ],
        [
         "Fanola",
         0.04565501
        ],
        [
         "Fekkai",
         0.04565501
        ],
        [
         "Felps Professional",
         0.11084613
        ],
        [
         "Finesse",
         0.04565501
        ],
        [
         "Firenze Professional",
         0.1824469
        ],
        [
         "Fix Your Lid",
         0.26427287
        ],
        [
         "Flawless by Gabrielle Union",
         0.14394893
        ],
        [
         "Freeze It",
         0.18486443
        ],
        [
         "G4U",
         0.04565501
        ],
        [
         "GARNIER",
         0.04565501
        ],
        [
         "GARNIER FRUCTIS",
         0.04565501
        ],
        [
         "GENERIC",
         0.05536217
        ],
        [
         "GIOVANNI",
         0.04565501
        ],
        [
         "GK HAIR",
         0.04565501
        ],
        [
         "GK Hair",
         0.3373817
        ],
        [
         "GO247",
         0.34792423
        ],
        [
         "GOLDEN ARTIST COLORS",
         0.04984305
        ],
        [
         "GOT2B",
         0.04565501
        ],
        [
         "GREAT CLIPS",
         0.04565501
        ],
        [
         "GSQ by GLAMSQUAD",
         0.08513642
        ],
        [
         "GUERLAIN",
         0.2974573
        ],
        [
         "GUMMY",
         0.04565501
        ],
        [
         "Gamba Beauty",
         0.04565501
        ],
        [
         "Garnier",
         0.04565501
        ],
        [
         "Garnier Fructis Curl Nourish",
         0.19348703
        ],
        [
         "Generic",
         0.04565501
        ],
        [
         "Ginger Milk Natural Care",
         0.3969774
        ],
        [
         "Giovanni",
         0.18169554
        ],
        [
         "Gisou",
         0.28315732
        ],
        [
         "Gluten-Free Savonnerie",
         0.04565501
        ],
        [
         "Goiple",
         0.04565501
        ],
        [
         "Got2B",
         0.19010524
        ],
        [
         "Green People",
         0.04565501
        ],
        [
         "Grisi",
         0.04565501
        ],
        [
         "Grow Gorgeous",
         0.3008396
        ],
        [
         "HAGUAN",
         0.04565501
        ],
        [
         "HAIR BURST",
         0.21069913
        ],
        [
         "HAIR CRAFT CO.",
         0.04565501
        ],
        [
         "HAIRtamin",
         0.07602324
        ],
        [
         "HASK",
         0.04565501
        ],
        [
         "HASKELL",
         0.04565501
        ],
        [
         "HIBAR",
         0.04565501
        ],
        [
         "Hair Chemist",
         0.04565501
        ],
        [
         "Hair Craft Co.",
         0.04565501
        ],
        [
         "Hair Food",
         0.04565501
        ],
        [
         "Hair Proud",
         0.19020288
        ],
        [
         "Hair Shots by amy",
         0.04565501
        ],
        [
         "Hair Speed",
         0.40072778
        ],
        [
         "Hair Thickness Maximizer",
         0.04565501
        ],
        [
         "Hair u wear",
         0.04565501
        ],
        [
         "HairFX",
         0.04565501
        ],
        [
         "HairXT100",
         0.04565501
        ],
        [
         "Hask",
         0.2113129
        ],
        [
         "Head & Shoulders",
         0.16219853
        ],
        [
         "HealthBest",
         0.32448092
        ],
        [
         "Hempz",
         0.04565501
        ],
        [
         "Herbal Essences",
         0.20848988
        ],
        [
         "Herbalvilla",
         0.04565501
        ],
        [
         "Herbishh",
         0.04565501
        ],
        [
         "Hesthetic",
         0.04565501
        ],
        [
         "Hi-Pro-Pac",
         0.02143967
        ],
        [
         "Histemo",
         0.21067885
        ],
        [
         "Hobe Labs",
         0.2536808
        ],
        [
         "Honeydew Intimates",
         0.33232307
        ],
        [
         "Hot Tools",
         0.20960598
        ],
        [
         "IGK",
         0.25434586
        ],
        [
         "INDULEKHA",
         0.24077845
        ],
        [
         "INEBRYA",
         0.04565501
        ],
        [
         "IQ NATURAL",
         0.04565501
        ],
        [
         "IRestore",
         0.21524431
        ],
        [
         "Impala",
         0.04565501
        ],
        [
         "Indie Hair",
         0.10063124
        ],
        [
         "Inebrya",
         0.04565501
        ],
        [
         "Influance",
         0.04565501
        ],
        [
         "Inoar",
         0.04565501
        ],
        [
         "Inova Professional",
         0.04565501
        ],
        [
         "Ion",
         0.04565501
        ],
        [
         "Isoplus",
         0.04565501
        ],
        [
         "It's a 10",
         0.1810147
        ],
        [
         "J'Organic Solutions",
         0.2580238
        ],
        [
         "JAMAICAN MANGO & LIME",
         0.04565501
        ],
        [
         "JASON",
         0.04565501
        ],
        [
         "JESSICURL",
         0.04565501
        ],
        [
         "JOSIE MARAN",
         0.26997283
        ],
        [
         "JUST FOR ME",
         0.41265434
        ],
        [
         "JVN",
         0.35724926
        ],
        [
         "Jamaican Mango & Lime",
         0.04565501
        ],
        [
         "JessEmet",
         0.04565501
        ],
        [
         "John Frieda",
         0.04565501
        ],
        [
         "John Masters Organics",
         0.26511928
        ],
        [
         "Johnny B.",
         0.2333672
        ],
        [
         "Joico",
         0.14570041
        ],
        [
         "Jolly's",
         0.32730374
        ],
        [
         "Jovees",
         0.04565501
        ],
        [
         "Joyful Young",
         0.23099034
        ],
        [
         "K18 Biomimetic Hairscience",
         0.3426854
        ],
        [
         "KALIVE 2 STYLE",
         0.04565501
        ],
        [
         "KAMEDIS",
         0.04565501
        ],
        [
         "KANYON",
         0.04565501
        ],
        [
         "KATIVA",
         0.04565501
        ],
        [
         "KEEP IT HANDSOME",
         0.04565501
        ],
        [
         "KERASILK",
         0.04565501
        ],
        [
         "KERASTASE",
         0.35975915
        ],
        [
         "KESH KING",
         0.333569
        ],
        [
         "KEUNE",
         0.04565501
        ],
        [
         "KEVIN MURPHY",
         0.04565501
        ],
        [
         "KIEHL'S",
         0.04565501
        ],
        [
         "KMS",
         0.04565501
        ],
        [
         "KMS California",
         0.029393291
        ],
        [
         "KUZA",
         0.04565501
        ],
        [
         "Kachita Spell",
         0.04565501
        ],
        [
         "KareCo",
         0.17221396
        ],
        [
         "Kenra",
         0.16549641
        ],
        [
         "Kenra Professional",
         0.15358391
        ],
        [
         "KeraCare",
         0.04565501
        ],
        [
         "Kesh King",
         0.20347421
        ],
        [
         "Keune",
         0.037056435
        ],
        [
         "Kim Kimble",
         0.27797928
        ],
        [
         "Kimtrue",
         0.04565501
        ],
        [
         "Kismera",
         0.04565501
        ],
        [
         "Kitsch",
         0.15525013
        ],
        [
         "Klorane",
         0.110619
        ],
        [
         "Kristin Ess",
         0.14896809
        ],
        [
         "Kuza",
         0.04565501
        ],
        [
         "Kérastase",
         0.25458062
        ],
        [
         "L LUSETA",
         0.04565501
        ],
        [
         "L'ANGE HAIR",
         0.04565501
        ],
        [
         "L'ANZA",
         0.04565501
        ],
        [
         "L'OREAL PARIS",
         0.30547488
        ],
        [
         "L'OREAL PROFESSIONNEL PARIS",
         0.04565501
        ],
        [
         "L'ORÉAL PROFESSIONNEL",
         0.04565501
        ],
        [
         "L'Occitane",
         0.17302886
        ],
        [
         "L'Oreal",
         0.139433
        ],
        [
         "L'Oreal Paris",
         0.15015636
        ],
        [
         "L'Oréal",
         0.15965128
        ],
        [
         "L3VEL3",
         0.04565501
        ],
        [
         "LA BEAUTÉ Hair Professionals",
         0.22131968
        ],
        [
         "LA LOOKS",
         0.12575004
        ],
        [
         "LABEL M",
         0.04565501
        ],
        [
         "LABEL.M",
         0.04565501
        ],
        [
         "LAVG KABAR",
         0.2664161
        ],
        [
         "LAYRITE",
         0.04565501
        ],
        [
         "LDN Professional",
         0.04565501
        ],
        [
         "LIYALAN",
         0.04565501
        ],
        [
         "LKSJBQ",
         0.04565501
        ],
        [
         "LOCAFELLA LOCS",
         0.04565501
        ],
        [
         "LOLA",
         0.04565501
        ],
        [
         "LOMA HAIR CARE",
         0.04565501
        ],
        [
         "LOMA LUX",
         0.04565501
        ],
        [
         "LUX COLLECTION",
         0.04565501
        ],
        [
         "LavidouX",
         0.04565501
        ],
        [
         "Layrite",
         0.3310514
        ],
        [
         "Le Petit Marseillais",
         0.28753522
        ],
        [
         "Lice Queen",
         0.04565501
        ],
        [
         "Living Proof",
         0.23827602
        ],
        [
         "Living proof",
         0.04565501
        ],
        [
         "Lola Brasil",
         0.087408505
        ],
        [
         "Loma",
         0.04565501
        ],
        [
         "Love Beauty And Planet",
         0.04565501
        ],
        [
         "Love Beauty and Planet",
         0.29891166
        ],
        [
         "LuxeOrganix",
         0.38467544
        ],
        [
         "Luxiny",
         0.04565501
        ],
        [
         "L’Oréal Paris",
         0.04565501
        ],
        [
         "M J JOMAY",
         0.04565501
        ],
        [
         "M MOÉRIE",
         0.04565501
        ],
        [
         "MILK_SHAKE",
         0.43706378
        ],
        [
         "MISS JESSIE'S",
         0.1218404
        ],
        [
         "MIXED CHICKS",
         0.32675317
        ],
        [
         "MOEHAIR",
         0.04565501
        ],
        [
         "MONAT",
         0.07478236
        ],
        [
         "MONDAY Haircare",
         0.25070238
        ],
        [
         "MOON VALLEY ORGANICS",
         0.04565501
        ],
        [
         "MOP",
         0.15798998
        ],
        [
         "Maani Essence",
         0.04565501
        ],
        [
         "Macadamia Natural Oil Rejuvenating Shampoo 10 oz",
         0.04565501
        ],
        [
         "Macadamia Professional",
         0.04565501
        ],
        [
         "Madam C. J. Walker",
         0.2537395
        ],
        [
         "Madison Reed",
         0.2923321
        ],
        [
         "Man Arden",
         0.04565501
        ],
        [
         "Mancro",
         0.14202404
        ],
        [
         "Mane 'n Tail",
         0.04565501
        ],
        [
         "Maple Holistics",
         0.33046448
        ],
        [
         "Marc Anthony",
         0.21704157
        ],
        [
         "Marlen",
         7.6954544E-4
        ],
        [
         "Matrix",
         0.15439188
        ],
        [
         "Maui Moisture",
         0.22935249
        ],
        [
         "Max Factor",
         0.04565501
        ],
        [
         "MeeShirer",
         0.4012753
        ],
        [
         "Mega Growth",
         0.19534677
        ],
        [
         "Melanin Haircare",
         0.26890692
        ],
        [
         "Men Rock",
         0.04565501
        ],
        [
         "Michiru",
         0.2808071
        ],
        [
         "Mielle",
         0.13326338
        ],
        [
         "Milano Care",
         0.04565501
        ],
        [
         "Milk_shake",
         0.04565501
        ],
        [
         "Mill Creek Botanicals",
         0.13196678
        ],
        [
         "Milmil",
         0.04565501
        ],
        [
         "Milva",
         0.04565501
        ],
        [
         "Mise En Scene",
         0.039667632
        ],
        [
         "Miss Jessie's",
         0.1569173
        ],
        [
         "Miss Key",
         0.011154482
        ],
        [
         "Mixed Chicks",
         0.25892955
        ],
        [
         "Mizani",
         0.16588913
        ],
        [
         "Moco de Gorila",
         0.16620955
        ],
        [
         "Molivera Organics",
         0.04565501
        ],
        [
         "MooGoo",
         0.04565501
        ],
        [
         "Moringa-O2",
         0.04565501
        ],
        [
         "Moroccanoil",
         0.04565501
        ],
        [
         "Motions",
         0.018336192
        ],
        [
         "Mut Dynasty",
         0.04565501
        ],
        [
         "Mydentity",
         0.19282345
        ],
        [
         "NATIVE",
         0.18851878
        ],
        [
         "NE Beauty Source",
         0.04565501
        ],
        [
         "NECTAR DU MONDE",
         0.19840042
        ],
        [
         "NEUMA",
         0.36740094
        ],
        [
         "NEXXUS",
         0.27168238
        ],
        [
         "NIFEISHI",
         0.04565501
        ],
        [
         "NIZORAL",
         0.29304597
        ],
        [
         "NOVEX",
         0.04565501
        ],
        [
         "Nairobi",
         0.04565501
        ],
        [
         "Naples Soap Company Naturally Better Skin Care",
         0.4192346
        ],
        [
         "Native",
         0.20871033
        ],
        [
         "Natural Therapy",
         0.03022441
        ],
        [
         "Nature's Ego",
         0.14427157
        ],
        [
         "Nature's Protein",
         0.04565501
        ],
        [
         "Neuma",
         0.23310733
        ],
        [
         "Neutrogena",
         0.04565501
        ],
        [
         "Nexxus",
         0.19118531
        ],
        [
         "Nick Chavez",
         0.22698478
        ],
        [
         "Nioxin",
         0.20848867
        ],
        [
         "Noah",
         0.43389896
        ],
        [
         "Not Your Mother's",
         0.17154934
        ],
        [
         "Noughty",
         0.04565501
        ],
        [
         "Nvyue",
         0.25309336
        ],
        [
         "Nécessaire",
         0.04565501
        ],
        [
         "OETUIOW",
         0.04565501
        ],
        [
         "OGILVIE",
         0.04565501
        ],
        [
         "OGX",
         0.13856183
        ],
        [
         "OJJ",
         0.04565501
        ],
        [
         "OLAPLEX",
         0.20314239
        ],
        [
         "ONESTA HAIR CARE",
         0.38877118
        ],
        [
         "ONLY4HAIR",
         0.23956552
        ],
        [
         "OPPEAL.HOSMALL",
         0.04565501
        ],
        [
         "ORGANIC ROOT STIMULATOR",
         0.04565501
        ],
        [
         "ORLANDO PITA PLAY",
         0.04565501
        ],
        [
         "ORS",
         0.14270662
        ],
        [
         "ORS HAIREPAIR",
         0.04565501
        ],
        [
         "OUAI",
         0.04565501
        ],
        [
         "OUIDAD",
         0.04565501
        ],
        [
         "Odele",
         0.17112611
        ],
        [
         "Olay",
         0.18298166
        ],
        [
         "Old Spice",
         0.16682306
        ],
        [
         "On Orgainc Natural",
         0.04565501
        ],
        [
         "Onesta Hair Care",
         0.1846973
        ],
        [
         "Organic Harvest",
         0.389978
        ],
        [
         "Oribe",
         0.14936385
        ],
        [
         "Original Sprout",
         0.04565501
        ],
        [
         "Originals by Africa's Best",
         0.04565501
        ],
        [
         "Ouidad",
         0.22781748
        ],
        [
         "PACINOS",
         0.22489887
        ],
        [
         "PATTERN",
         0.04565501
        ],
        [
         "PATTERN by Tracee Ellis Ross",
         0.24098611
        ],
        [
         "PAUL MITCHELL",
         0.04565501
        ],
        [
         "PH PURE HAIR",
         0.04565501
        ],
        [
         "PHARMACEUTICAL SPECIALTIES",
         0.04565501
        ],
        [
         "PHILIP B",
         0.04565501
        ],
        [
         "PROCLAIM",
         0.04565501
        ],
        [
         "PURA D'OR",
         0.32447085
        ],
        [
         "PUREOLOGY",
         0.04565501
        ],
        [
         "Pacific Spirit",
         0.27833354
        ],
        [
         "Pacifica",
         0.20129132
        ],
        [
         "Packer's Pine",
         0.04565501
        ],
        [
         "Pallure",
         0.04565501
        ],
        [
         "Palm",
         0.16270399
        ],
        [
         "Pantene",
         0.04565501
        ],
        [
         "Pantogar",
         0.081118
        ],
        [
         "Paul Mitchell",
         0.08370175
        ],
        [
         "Paya Organics",
         0.16192754
        ],
        [
         "Peach not Plastic",
         0.04565501
        ],
        [
         "Perlier",
         0.4328871
        ],
        [
         "Phyto",
         0.15085793
        ],
        [
         "Planet Goody",
         0.11849083
        ],
        [
         "Plantanicals",
         0.04565501
        ],
        [
         "Plantur",
         0.04565501
        ],
        [
         "Prell",
         0.2716458
        ],
        [
         "Prive",
         0.39679947
        ],
        [
         "Pro-line Racing",
         0.04565501
        ],
        [
         "Proclaim",
         0.12537156
        ],
        [
         "Prohall Cosmetic",
         0.19830608
        ],
        [
         "Prosoria",
         0.04565501
        ],
        [
         "Punky Colour",
         0.19290695
        ],
        [
         "Pura d'or",
         0.122921504
        ],
        [
         "Pure Culture Beauty",
         0.2459086
        ],
        [
         "Pureology",
         0.04565501
        ],
        [
         "Qhemet Biologics",
         0.04565501
        ],
        [
         "R+Co",
         0.04565501
        ],
        [
         "RATED GREEN",
         0.18499498
        ],
        [
         "REUZEL INC",
         0.31874627
        ],
        [
         "REVLON",
         0.04565501
        ],
        [
         "ROGAINE",
         0.22876473
        ],
        [
         "ROLDA",
         0.04565501
        ],
        [
         "RUSK",
         0.04565501
        ],
        [
         "Raw Sugar",
         0.25635433
        ],
        [
         "RealRaw",
         0.20076157
        ],
        [
         "Red by Kiss",
         0.04565501
        ],
        [
         "Redken",
         0.16686618
        ],
        [
         "Rene Furterer",
         0.04565501
        ],
        [
         "Renpure",
         0.0574486
        ],
        [
         "Research Verified",
         0.04565501
        ],
        [
         "Rita Hazan",
         0.13950361
        ],
        [
         "Rizos Curls",
         0.289542
        ],
        [
         "Rock Your Hair",
         0.04565501
        ],
        [
         "Rogaine",
         0.04565501
        ],
        [
         "Rootly",
         0.258524
        ],
        [
         "Roselle Naturals",
         0.04565501
        ],
        [
         "Rossano Ferretti Parma",
         0.33848354
        ],
        [
         "Royal Crown Foods",
         0.25493777
        ],
        [
         "Royco Professional",
         0.04565501
        ],
        [
         "Rusk",
         0.07604715
        ],
        [
         "SAPHIRA MINERAL ESSENTIALS",
         0.04565501
        ],
        [
         "SCHWARZKOPF",
         0.04565501
        ],
        [
         "SCOBUTY",
         0.04565501
        ],
        [
         "SEBASTIAN",
         0.04565501
        ],
        [
         "SENSIVO",
         0.04565501
        ],
        [
         "SERGE NORMANT",
         0.04565501
        ],
        [
         "SGX NYC",
         0.18824942
        ],
        [
         "SHAY NATURAL",
         0.04565501
        ],
        [
         "SHAZ & KIKS",
         0.34249195
        ],
        [
         "SHIFAKOU",
         0.04565501
        ],
        [
         "SMART SOLUTIONS",
         0.04565501
        ],
        [
         "SP Bel-Art",
         0.12179181
        ],
        [
         "SUAVECITO",
         0.04565501
        ],
        [
         "SWANSON PREMIUM BRAND",
         0.23256776
        ],
        [
         "Sachajuan",
         0.18330288
        ],
        [
         "Saints & Sinners",
         0.04565501
        ],
        [
         "Salerm",
         0.04565501
        ],
        [
         "Salon Care",
         0.04565501
        ],
        [
         "Salon Line",
         0.04565501
        ],
        [
         "Salon Pro",
         0.04565501
        ],
        [
         "Sandhill Tools",
         0.13053939
        ],
        [
         "Saphira",
         0.4024561
        ],
        [
         "Savannah Hair Therapy",
         0.04565501
        ],
        [
         "Schizandu Organics",
         0.30350962
        ],
        [
         "Schwarzkopf",
         0.04565501
        ],
        [
         "Schwarzkopf by Sleekshop",
         0.13762335
        ],
        [
         "Scunci",
         0.19423631
        ],
        [
         "Sebastian Professional",
         0.08685301
        ],
        [
         "Sedal",
         0.04565501
        ],
        [
         "Selsun Blue",
         0.04565501
        ],
        [
         "Serge Normant",
         0.04565501
        ],
        [
         "Seven Minerals",
         0.04565501
        ],
        [
         "Sexy Hair",
         0.20995921
        ],
        [
         "Shapiro MD",
         0.14725286
        ],
        [
         "SheaMoisture",
         0.22604056
        ],
        [
         "SheaMoisture Kids",
         0.27804124
        ],
        [
         "ShiKai",
         0.04565501
        ],
        [
         "Shiny Leaf",
         0.04565501
        ],
        [
         "Short Sexy Hair",
         0.13633774
        ],
        [
         "Shu Uemura",
         0.12808566
        ],
        [
         "Sienna Naturals",
         0.21390145
        ],
        [
         "Silicon Mix",
         0.04565501
        ],
        [
         "Simida",
         0.29145366
        ],
        [
         "Skala",
         0.12465266
        ],
        [
         "Skala (scalar)",
         0.04565501
        ],
        [
         "Slip",
         0.12984645
        ],
        [
         "Slopehill",
         0.26376033
        ],
        [
         "Soft & Beautiful",
         0.04565501
        ],
        [
         "Soft-Sheen Carson",
         0.04565501
        ],
        [
         "SoftSheen-Carson",
         0.04565501
        ],
        [
         "Softsheen-Carson",
         0.1642665
        ],
        [
         "Solar Recover",
         0.04565501
        ],
        [
         "Sphagnum Botanicals",
         0.04565501
        ],
        [
         "Spice",
         0.026668329
        ],
        [
         "St. Tropica",
         0.04565501
        ],
        [
         "Style Factor",
         0.04565501
        ],
        [
         "Suave",
         0.04565501
        ],
        [
         "Sulfur 8",
         0.04565501
        ],
        [
         "Sun Bum",
         0.21996646
        ],
        [
         "Sunday II Sunday",
         0.25738797
        ],
        [
         "Sunny Isle",
         0.04565501
        ],
        [
         "TANGDA",
         0.1591676
        ],
        [
         "TAYA I AM.",
         0.04565501
        ],
        [
         "THESALONGUY",
         0.04565501
        ],
        [
         "THREE FLOWERS",
         0.04565501
        ],
        [
         "TIFALEX",
         0.04565501
        ],
        [
         "TIGI",
         0.04565501
        ],
        [
         "TNOODA",
         0.31913996
        ],
        [
         "TOPPIK",
         0.04565501
        ],
        [
         "TOTEX",
         0.04565501
        ],
        [
         "TPH BY TARAJI",
         0.04565501
        ],
        [
         "TPH by TARAJI",
         0.22350152
        ],
        [
         "TRESemme",
         0.3243907
        ],
        [
         "TRESemmé",
         0.17103426
        ],
        [
         "TRIDESIGN",
         0.40819183
        ],
        [
         "TRUSS",
         0.04565501
        ],
        [
         "TUEXCIRA",
         0.04565501
        ],
        [
         "TWIST",
         0.04565501
        ],
        [
         "Tala",
         0.04565501
        ],
        [
         "Taliah Waajid",
         0.18329202
        ],
        [
         "Tangle Teezer",
         0.22069173
        ],
        [
         "The Body Shop",
         0.38679573
        ],
        [
         "The Hair Edit",
         0.111816995
        ],
        [
         "The Mane Choice",
         0.04565501
        ],
        [
         "The Republic of Tea",
         0.121838965
        ],
        [
         "The Rich Barber",
         0.04565501
        ],
        [
         "Tree to Tub",
         0.29840332
        ],
        [
         "Tres flores",
         0.04565501
        ],
        [
         "Tresemme",
         0.3262808
        ],
        [
         "True+Real",
         0.04565501
        ],
        [
         "Trustrx",
         0.040197536
        ],
        [
         "UPPERCUT DELUXE",
         0.04565501
        ],
        [
         "Uhuru Naturals",
         0.04565501
        ],
        [
         "Uncle Funky's Daughter",
         0.04565501
        ],
        [
         "UpgradeWith",
         0.04565501
        ],
        [
         "Urban Decay",
         0.04565501
        ],
        [
         "Ustraa",
         0.2664161
        ],
        [
         "VERB",
         0.04565501
        ],
        [
         "VIA NATURAL",
         0.04565501
        ],
        [
         "VITALITY'S BY FARMEN",
         0.18459009
        ],
        [
         "VOLLUCK",
         0.04565501
        ],
        [
         "VOLUMAX",
         0.04565501
        ],
        [
         "Valleylux",
         0.2989837
        ],
        [
         "Verb",
         0.21918602
        ],
        [
         "Via Natural",
         0.04565501
        ],
        [
         "Virtue",
         0.32865164
        ],
        [
         "Vita Coco",
         0.2140378
        ],
        [
         "Vital Care",
         0.04565501
        ],
        [
         "Vitex",
         0.28943312
        ],
        [
         "Viviscal",
         0.26770434
        ],
        [
         "Vocks",
         0.04565501
        ],
        [
         "WELLNESS PREMIUM PRODUCTS",
         0.15626451
        ],
        [
         "WFWJ",
         0.31276318
        ],
        [
         "WHITE RAIN",
         0.14923017
        ],
        [
         "WOODY'S",
         0.04565501
        ],
        [
         "Watercolors",
         0.04565501
        ],
        [
         "Watermans",
         0.04565501
        ],
        [
         "Wellness Premium Products",
         0.04565501
        ],
        [
         "Wet Brush",
         0.14210494
        ],
        [
         "Wet Line",
         0.20201905
        ],
        [
         "White Rain",
         0.13172789
        ],
        [
         "White Rain Body Wash",
         0.12317381
        ],
        [
         "Whiteh",
         0.04565501
        ],
        [
         "Wild",
         0.09300014
        ],
        [
         "XFusion",
         0.04565501
        ],
        [
         "XMONDO",
         0.2873961
        ],
        [
         "YAFUSIPE",
         0.04565501
        ],
        [
         "YLNALO",
         0.04565501
        ],
        [
         "ZENAGEN",
         0.04565501
        ],
        [
         "Zap",
         0.04565501
        ],
        [
         "Zatik",
         0.04565501
        ],
        [
         "Zyyini",
         0.04565501
        ],
        [
         "amika",
         0.2715594
        ],
        [
         "eva+avo",
         0.17486635
        ],
        [
         "fyab",
         0.04565501
        ],
        [
         "hair rules",
         0.04565501
        ],
        [
         "hims",
         0.25804305
        ],
        [
         "invisibobble",
         0.09519008
        ],
        [
         "natura",
         0.024834726
        ],
        [
         "organix",
         0.04565501
        ],
        [
         "regis designline",
         0.04565501
        ],
        [
         "simplyO",
         0.04565501
        ],
        [
         "tarte",
         0.18473999
        ],
        [
         "the doux",
         0.04565501
        ],
        [
         "up & up",
         0.13731165
        ],
        [
         "ÉN LOVE",
         0.04565501
        ]
       ],
       "datasetInfos": [],
       "dbfsResultPath": null,
       "isJsonSchema": true,
       "metadata": {},
       "overflow": false,
       "plotOptions": {
        "customPlotOptions": {},
        "displayType": "table",
        "pivotAggregation": null,
        "pivotColumns": null,
        "xColumns": null,
        "yColumns": null
       },
       "removedWidgets": [],
       "schema": [
        {
         "metadata": "{}",
         "name": "ProductBrand_prod",
         "type": "\"string\""
        },
        {
         "metadata": "{}",
         "name": "median_similarity",
         "type": "\"float\""
        }
       ],
       "type": "table"
      }
     },
     "output_type": "display_data"
    }
   ],
   "source": [
    "brand_median_similarity.display()"
   ]
  },
  {
   "cell_type": "code",
   "execution_count": 0,
   "metadata": {
    "application/vnd.databricks.v1+cell": {
     "cellMetadata": {
      "byteLimit": 2048000,
      "rowLimit": 10000
     },
     "inputWidgets": {},
     "nuid": "62ac08cc-261b-48a8-8d72-a4ee7c085298",
     "showTitle": false,
     "title": ""
    }
   },
   "outputs": [
    {
     "output_type": "stream",
     "name": "stdout",
     "output_type": "stream",
     "text": [
      "+-------------+-------------------+\n|Retailer_prod|     avg_similarity|\n+-------------+-------------------+\n|  sephora.com|0.25984286308288573|\n|walgreens.com|0.24153056953634536|\n|     ulta.com| 0.2105231602125022|\n|      cvs.com|0.19725217487739058|\n|   target.com| 0.1898954286042488|\n|  walmart.com| 0.1868981814956012|\n|   amazon.com|0.09197159397115016|\n+-------------+-------------------+\n\n"
     ]
    }
   ],
   "source": [
    "from pyspark.sql import functions as F\n",
    "\n",
    "# Group by brand and calculate average similarity\n",
    "brand_similarity_df = df_sim_to_centroid.groupBy(\"Retailer_prod\").agg(F.avg(\"similarity_to_centroid\").alias(\"avg_similarity\")).orderBy(F.desc(\"avg_similarity\"))\n",
    "\n",
    "# Display the brands with the highest and lowest average similarity scores\n",
    "brand_similarity_df.show()"
   ]
  },
  {
   "cell_type": "code",
   "execution_count": 0,
   "metadata": {
    "application/vnd.databricks.v1+cell": {
     "cellMetadata": {},
     "inputWidgets": {},
     "nuid": "ba0da96b-c6e0-4311-83e5-6a7fba8eba53",
     "showTitle": false,
     "title": ""
    }
   },
   "outputs": [],
   "source": [
    "from pyspark.sql.functions import col, udf\n",
    "from pyspark.sql.types import FloatType, ArrayType, StringType\n",
    "from pyspark.ml.feature import Tokenizer\n",
    "\n",
    "# 1. Tokenization\n",
    "tokenizer = Tokenizer(inputCol=\"ProductDescription_prod\", outputCol=\"tokens\")\n",
    "df_tokenized = tokenizer.transform(df)\n",
    "\n",
    "# 2. Convert tokens to sets - using a UDF\n",
    "def tokens_to_set(tokens):\n",
    "    return list(set(tokens))\n",
    "\n",
    "set_udf = udf(tokens_to_set, ArrayType(StringType()))\n",
    "df_sets = df_tokenized.withColumn(\"token_sets\", set_udf(col(\"tokens\")))\n",
    "\n",
    "# 3. Calculate Jaccard Similarity - using a UDF\n",
    "def jaccard_similarity(set1, set2):\n",
    "    set1, set2 = set(set1), set(set2)\n",
    "    intersection_len = len(set1.intersection(set2))\n",
    "    union_len = len(set1.union(set2))\n",
    "    \n",
    "    if union_len == 0:\n",
    "        return 0.0\n",
    "    \n",
    "    return float(intersection_len) / union_len\n",
    "\n",
    "jaccard_udf = udf(jaccard_similarity, FloatType())\n",
    "df_cross = df_sets.crossJoin(df_sets.withColumnRenamed(\"token_sets\", \"token_sets_2\"))\n",
    "\n",
    "df_jaccard = df_cross.withColumn(\"jaccard_similarity\", jaccard_udf(\"token_sets\", \"token_sets_2\"))\n",
    "\n",
    "df_jaccard.select(\"ProductDescription_prod\", \"jaccard_similarity\").show()\n"
   ]
  },
  {
   "cell_type": "code",
   "execution_count": 0,
   "metadata": {
    "application/vnd.databricks.v1+cell": {
     "cellMetadata": {},
     "inputWidgets": {},
     "nuid": "72870244-b10c-4d11-895a-70b5536d393f",
     "showTitle": false,
     "title": ""
    }
   },
   "outputs": [],
   "source": [
    "from pyspark.ml.feature import Tokenizer, Word2Vec\n",
    "from pyspark.sql.functions import col, udf\n",
    "from pyspark.sql.types import FloatType\n",
    "from pyspark.ml.linalg import Vectors, VectorUDT\n",
    "import numpy as np\n",
    "\n",
    "# 1. Tokenization\n",
    "tokenizer = Tokenizer(inputCol=\"ProductDescription_prod\", outputCol=\"tokens\")\n",
    "df_tokenized = tokenizer.transform(df)\n",
    "\n",
    "# 2. Generate Word Embeddings using Word2Vec\n",
    "word2Vec = Word2Vec(vectorSize=100, minCount=5, inputCol=\"tokens\", outputCol=\"word2vec\")\n",
    "model = word2Vec.fit(df_tokenized)\n",
    "df_word2vec = model.transform(df_tokenized)\n",
    "\n",
    "# 3. UDF for Cosine Similarity\n",
    "def cosine_similarity(v1, v2):\n",
    "    v1 = np.array(v1.toArray())\n",
    "    v2 = np.array(v2.toArray())\n",
    "    return float(np.dot(v1, v2) / (np.linalg.norm(v1) * np.linalg.norm(v2)))\n",
    "\n",
    "cosine_similarity_udf = udf(cosine_similarity, FloatType())\n",
    "\n",
    "# Cross-join to get pairwise combinations\n",
    "df_cross = df_word2vec.crossJoin(df_word2vec.withColumnRenamed(\"word2vec\", \"word2vec_2\"))\n",
    "\n",
    "# Calculate pairwise similarities\n",
    "df_similarities = df_cross.withColumn(\"similarity\", cosine_similarity_udf(\"word2vec\", \"word2vec_2\"))\n",
    "\n",
    "df_similarities.select(\"ProductDescription_prod\", \"similarity\").show()\n",
    "\n"
   ]
  }
 ],
 "metadata": {
  "application/vnd.databricks.v1+notebook": {
   "dashboards": [],
   "language": "python",
   "notebookMetadata": {
    "pythonIndentUnit": 4
   },
   "notebookName": "Product Description Similarity",
   "widgets": {}
  }
 },
 "nbformat": 4,
 "nbformat_minor": 0
}
